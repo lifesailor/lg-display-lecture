{
 "cells": [
  {
   "cell_type": "markdown",
   "metadata": {
    "colab_type": "text",
    "id": "UR4WdCrVL58s"
   },
   "source": [
    "### args"
   ]
  },
  {
   "cell_type": "markdown",
   "metadata": {
    "colab_type": "text",
    "id": "Vy8kzngtL58x"
   },
   "source": [
    "대부분 *args*와 **kwargs는 함수를 정의 할 때 사용됩니다. *args와 **kwargs는 가변 갯수의 인자들을 함수에 넣어줍니다. 여기서 가변 갯수의 인자라 함은, 사용자들이 얼마나 많은 인자들을 함수에 넣을지 모르는, 즉 갯수가 변할 수 있는 상황에서 *args와 **kwargs를 사용할 수 있다는 뜻입니다.\n",
    "*args는 키워드 되지않은 가변 갯수의 인자들을 함수에 보낼 때 사용합니다. 좀 더 명확하게 예를 들어보겠습니다.\n"
   ]
  },
  {
   "cell_type": "code",
   "execution_count": 13,
   "metadata": {
    "colab": {},
    "colab_type": "code",
    "id": "IW6E_mcvL58z"
   },
   "outputs": [],
   "source": [
    "def test_var_args(f_arg, *argv):\n",
    "    print (\"첫 번째 인자:\", f_arg)\n",
    "    for arg in argv:\n",
    "        print (\"*argv의 다른 인자\", arg)"
   ]
  },
  {
   "cell_type": "code",
   "execution_count": 12,
   "metadata": {
    "colab": {},
    "colab_type": "code",
    "id": "Q6MuCAuyL584",
    "outputId": "9c26d4c9-ed49-4981-fda8-e446a8acb48f"
   },
   "outputs": [
    {
     "name": "stdout",
     "output_type": "stream",
     "text": [
      "python 달걀 test\n",
      "첫 번째 인자: 야숩\n",
      "*argv의 다른 인자 python\n",
      "*argv의 다른 인자 달걀\n",
      "*argv의 다른 인자 test\n"
     ]
    }
   ],
   "source": [
    "test_var_args('야숩', 'python', '달걀', 'test')"
   ]
  },
  {
   "cell_type": "markdown",
   "metadata": {
    "colab_type": "text",
    "id": "MEZk8G3GL59A"
   },
   "source": [
    "### kwargs"
   ]
  },
  {
   "cell_type": "markdown",
   "metadata": {
    "colab_type": "text",
    "id": "O1gwCIOlL59B"
   },
   "source": [
    "**kwargs는 키워드된 가변 갯수의 인자들을 함수에 보낼 때 사용합니다.(역주: 가장 큰 차이는 keyword이냐 nonkeyword이냐입니다.) \n",
    "\n",
    "**kwargs는 함수가 이름이 지정된 인자를 처리할 때 사용해야합니다. 아래의 예시를 보겠습니다."
   ]
  },
  {
   "cell_type": "code",
   "execution_count": 1,
   "metadata": {
    "colab": {},
    "colab_type": "code",
    "id": "4HSDm5nhL59C"
   },
   "outputs": [],
   "source": [
    "def greet_me(**kwargs):\n",
    "    print(type(kwargs))\n",
    "    if kwargs is not None:\n",
    "        for key, value in kwargs.items(): # python3: kwargs.items()\n",
    "            print(\"[%s %s\" % (key, value)) # python3: print(\"%s == %s\" % (key, value))"
   ]
  },
  {
   "cell_type": "code",
   "execution_count": 2,
   "metadata": {
    "colab": {},
    "colab_type": "code",
    "id": "ovRN2rKZL59G",
    "outputId": "5223f9fd-cc3b-4f83-af1b-994799080fec"
   },
   "outputs": [
    {
     "name": "stdout",
     "output_type": "stream",
     "text": [
      "<class 'dict'>\n",
      "name == jungyoon\n",
      "key == 1\n"
     ]
    }
   ],
   "source": [
    "greet_me(name='jungyoon', key='1')"
   ]
  },
  {
   "cell_type": "code",
   "execution_count": 0,
   "metadata": {
    "colab": {},
    "colab_type": "code",
    "id": "E3gaVvvOL59L"
   },
   "outputs": [],
   "source": []
  }
 ],
 "metadata": {
  "colab": {
   "name": "2. args, kwargs.ipynb",
   "provenance": [],
   "version": "0.3.2"
  },
  "kernelspec": {
   "display_name": "Python 3",
   "language": "python",
   "name": "python3"
  },
  "language_info": {
   "codemirror_mode": {
    "name": "ipython",
    "version": 3
   },
   "file_extension": ".py",
   "mimetype": "text/x-python",
   "name": "python",
   "nbconvert_exporter": "python",
   "pygments_lexer": "ipython3",
   "version": "3.5.3"
  }
 },
 "nbformat": 4,
 "nbformat_minor": 1
}
