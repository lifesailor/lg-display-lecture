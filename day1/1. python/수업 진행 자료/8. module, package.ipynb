{
 "cells": [
  {
   "cell_type": "code",
   "execution_count": 2,
   "metadata": {},
   "outputs": [
    {
     "name": "stdout",
     "output_type": "stream",
     "text": [
      "1. jupyter 이해.ipynb\r\n",
      "\u001b[1m\u001b[36m1. module\u001b[m\u001b[m\r\n",
      "\u001b[1m\u001b[36m2. package\u001b[m\u001b[m\r\n",
      "2. python 기본 자료형 - 숫자(int, float), 문자, bool.ipynb\r\n",
      "3. 기본 자료구조.ipynb\r\n",
      "4. 조건문, 반복문.ipynb\r\n",
      "5.  함수.ipynb\r\n",
      "6. IO.ipynb\r\n",
      "7. class.ipynb\r\n",
      "7. class_example.py\r\n",
      "8. module, package.ipynb\r\n",
      "\u001b[1m\u001b[36mdata\u001b[m\u001b[m\r\n",
      "\u001b[1m\u001b[36mimg\u001b[m\u001b[m\r\n",
      "test.txt\r\n",
      "test1.txt\r\n",
      "\u001b[1m\u001b[36m객체 지향\u001b[m\u001b[m\r\n",
      "참고 1. Python 자료형.ipynb\r\n",
      "참고 10. Class.ipynb\r\n",
      "참고 11. 매직 메소드.ipynb\r\n",
      "참고 12. 이터레이터, 제너레이터.ipynb\r\n",
      "참고 13. 데코레이터.ipynb\r\n",
      "참고 14. sys, os.ipynb\r\n",
      "참고 2. collections.ipynb\r\n",
      "참고 3. copy, deepcopy.ipynb\r\n",
      "참고 4. Comprehension, Enumerate, zip.ipynb\r\n",
      "참고 5. 지역 변수, 전역 변수.ipynb\r\n",
      "참고 6. function, lambda, map, reduce, filter.ipynb\r\n",
      "참고 7. args, kwargs.ipynb\r\n",
      "참고 8. File Read Write.ipynb\r\n",
      "참고 9. 예외 처리.ipynb\r\n",
      "연습 문제.ipynb\r\n"
     ]
    }
   ],
   "source": [
    "1!ls"
   ]
  },
  {
   "cell_type": "code",
   "execution_count": null,
   "metadata": {},
   "outputs": [],
   "source": []
  }
 ],
 "metadata": {
  "kernelspec": {
   "display_name": "Python 3",
   "language": "python",
   "name": "python3"
  },
  "language_info": {
   "codemirror_mode": {
    "name": "ipython",
    "version": 3
   },
   "file_extension": ".py",
   "mimetype": "text/x-python",
   "name": "python",
   "nbconvert_exporter": "python",
   "pygments_lexer": "ipython3",
   "version": "3.6.6"
  }
 },
 "nbformat": 4,
 "nbformat_minor": 2
}
