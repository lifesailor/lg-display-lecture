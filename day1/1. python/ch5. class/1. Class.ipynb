{
 "cells": [
  {
   "cell_type": "markdown",
   "metadata": {},
   "source": [
    "# 1. Class"
   ]
  },
  {
   "cell_type": "markdown",
   "metadata": {},
   "source": [
    "### 0) Class, method생성"
   ]
  },
  {
   "cell_type": "code",
   "execution_count": null,
   "metadata": {},
   "outputs": [],
   "source": [
    "class ClassName:\n",
    "    \n",
    "    v1 = 1\n",
    "    v2 = 2\n",
    "    \n",
    "    def method(self):\n",
    "        pass"
   ]
  },
  {
   "cell_type": "markdown",
   "metadata": {},
   "source": [
    "#### Object 생성"
   ]
  },
  {
   "cell_type": "code",
   "execution_count": null,
   "metadata": {},
   "outputs": [],
   "source": [
    "c1 = ClassName()\n",
    "c2 = ClassName()\n",
    "\n",
    "print(c1)\n",
    "print(c2)"
   ]
  },
  {
   "cell_type": "markdown",
   "metadata": {},
   "source": [
    "#### 파이썬의 모든 데이터/함수는 객체이다 "
   ]
  },
  {
   "cell_type": "code",
   "execution_count": 6,
   "metadata": {},
   "outputs": [
    {
     "name": "stdout",
     "output_type": "stream",
     "text": [
      "['__add__', '__class__', '__contains__', '__delattr__', '__delitem__', '__dir__', '__doc__', '__eq__', '__format__', '__ge__', '__getattribute__', '__getitem__', '__gt__', '__hash__', '__iadd__', '__imul__', '__init__', '__iter__', '__le__', '__len__', '__lt__', '__mul__', '__ne__', '__new__', '__reduce__', '__reduce_ex__', '__repr__', '__reversed__', '__rmul__', '__setattr__', '__setitem__', '__sizeof__', '__str__', '__subclasshook__', 'append', 'clear', 'copy', 'count', 'extend', 'index', 'insert', 'pop', 'remove', 'reverse', 'sort']\n",
      "<class 'type'>\n",
      "[1, 2, 3] [1, 2, 3]\n"
     ]
    }
   ],
   "source": [
    "print(dir(list))\n",
    "\n",
    "print(type(list))\n",
    "\n",
    "\n",
    "L1 = list([1, 2, 3]) # 클래스명(속성값)\n",
    "L2 = [1, 2, 3] \n",
    "\n",
    "print(L1, L2)"
   ]
  },
  {
   "cell_type": "markdown",
   "metadata": {},
   "source": [
    "#### 연산자 중복 예제 "
   ]
  },
  {
   "cell_type": "code",
   "execution_count": 10,
   "metadata": {},
   "outputs": [
    {
     "name": "stdout",
     "output_type": "stream",
     "text": [
      "30\n"
     ]
    }
   ],
   "source": [
    "x = int(10)\n",
    "y = 20\n",
    "\n",
    "# __add__ 정수 객체에 덧셈을 해주는 메소드\n",
    "z = x.__add__(y) # x + y\n",
    "print(z)\n",
    "\n",
    "# 정수를 많이 사용하는데, 매번 __add__ 함수를 사용하면 번거롭다.\n",
    "# 그래서 파이썬에서는 x.__add__(y) 를 x+y 로 사용할 수 있도록 제공\n",
    "# 이것이, 연산자 중복 기능 \n",
    "# 즉, '특별한 메소드에 연산자 기능이 중복' 되어있다 라는 것, 따라서 간단하게 연산자로 사용 가능함"
   ]
  },
  {
   "cell_type": "code",
   "execution_count": 17,
   "metadata": {},
   "outputs": [
    {
     "name": "stdout",
     "output_type": "stream",
     "text": [
      "(30, 50)\n"
     ]
    }
   ],
   "source": [
    "class Point:\n",
    "    def __init__(self, x=0, y=0):\n",
    "        self.x = x\n",
    "        self.y = y\n",
    "    \n",
    "    def get(self):\n",
    "        return self.x, self.y\n",
    "    \n",
    "    def __add__(self, other):\n",
    "        new_x = self.x + other.x\n",
    "        new_y = self.y + other.y\n",
    "        return Point(new_x, new_y)\n",
    "\n",
    "a = Point(10, 20)\n",
    "b = Point(20, 30)\n",
    "\n",
    "c = a + b\n",
    "print(c.get())"
   ]
  },
  {
   "cell_type": "markdown",
   "metadata": {},
   "source": [
    "### 1) 클래스 멤버와 인스턴스 멤버"
   ]
  },
  {
   "cell_type": "markdown",
   "metadata": {},
   "source": [
    "#### Class method/variable, Instance method/variable"
   ]
  },
  {
   "cell_type": "code",
   "execution_count": 19,
   "metadata": {},
   "outputs": [],
   "source": [
    "class Class:\n",
    "    \n",
    "    class_variable = 0\n",
    "    \n",
    "    @classmethod\n",
    "    def class_method(cls):\n",
    "        print(\"Class method\")\n",
    "    \n",
    "    def insatnce_method(self):\n",
    "        self.instance_variable = 0\n",
    "        print(\"Instance method\")"
   ]
  },
  {
   "cell_type": "code",
   "execution_count": 23,
   "metadata": {},
   "outputs": [
    {
     "name": "stdout",
     "output_type": "stream",
     "text": [
      "Class method\n",
      "Instance method\n"
     ]
    }
   ],
   "source": [
    "cs = Class()\n",
    "Class.class_method()\n",
    "cs.insatnce_method()"
   ]
  },
  {
   "cell_type": "markdown",
   "metadata": {},
   "source": [
    "### 1-1) Variable \n",
    "객체를 구성하는 데이터"
   ]
  },
  {
   "cell_type": "markdown",
   "metadata": {},
   "source": [
    "#### 1) Class Variable\n",
    "공용으로 사용되는 변수"
   ]
  },
  {
   "cell_type": "code",
   "execution_count": 148,
   "metadata": {},
   "outputs": [],
   "source": [
    "class Bag:\n",
    "    \n",
    "    user_bag = []\n",
    "    \n",
    "    def put_bag(self, stuff):\n",
    "        self.user_bag.append(stuff)"
   ]
  },
  {
   "cell_type": "code",
   "execution_count": 149,
   "metadata": {},
   "outputs": [
    {
     "name": "stdout",
     "output_type": "stream",
     "text": [
      "['pencil', 'Note']\n"
     ]
    }
   ],
   "source": [
    "kim = Bag()\n",
    "lee = Bag()\n",
    "\n",
    "kim.put_bag(\"pencil\")\n",
    "lee.put_bag(\"Note\")\n",
    "print(Bag.user_bag)"
   ]
  },
  {
   "cell_type": "markdown",
   "metadata": {},
   "source": [
    "#### 2) instance variable\n",
    "각 객체(instance) 마다 별도로 사용되는 변수"
   ]
  },
  {
   "cell_type": "code",
   "execution_count": 152,
   "metadata": {},
   "outputs": [],
   "source": [
    "class Bag:\n",
    "    \n",
    "    def __init__(self):\n",
    "        self.user_bag = []\n",
    "    \n",
    "    def put_bag(self, stuff):\n",
    "        self.user_bag.append(stuff)"
   ]
  },
  {
   "cell_type": "code",
   "execution_count": 153,
   "metadata": {},
   "outputs": [
    {
     "name": "stdout",
     "output_type": "stream",
     "text": [
      "['pencil'] ['Note']\n"
     ]
    }
   ],
   "source": [
    "kim = Bag()\n",
    "lee = Bag()\n",
    "\n",
    "kim.put_bag(\"pencil\")\n",
    "lee.put_bag(\"Note\")\n",
    "print(kim.user_bag, lee.user_bag)"
   ]
  },
  {
   "cell_type": "markdown",
   "metadata": {},
   "source": [
    "#### Ex. instance variable, class variable"
   ]
  },
  {
   "cell_type": "code",
   "execution_count": 6,
   "metadata": {},
   "outputs": [],
   "source": [
    "class Account:\n",
    "    num_account = 0\n",
    "\n",
    "    def __init__(self, name):\n",
    "        self.name = name\n",
    "        Account.num_account += 1"
   ]
  },
  {
   "cell_type": "code",
   "execution_count": 7,
   "metadata": {},
   "outputs": [
    {
     "name": "stdout",
     "output_type": "stream",
     "text": [
      "Instance variable :  user_1\n",
      "Class variable    :  2\n",
      "Instance variable :  user_2\n",
      "Class variable    :  2\n",
      "{'name': 'user_1'}\n",
      "{'name': 'user_2'}\n"
     ]
    }
   ],
   "source": [
    "user1 = Account(\"user_1\")\n",
    "user2 = Account(\"user_2\")\n",
    "\n",
    "# \n",
    "print(\"Instance variable : \", user1.name)\n",
    "print(\"Class variable    : \", user1.num_account)\n",
    "print(\"Instance variable : \", user2.name)\n",
    "print(\"Class variable    : \", user2.num_account)\n",
    "\n",
    "print(user1.__dict__)\n",
    "print(user2.__dict__)"
   ]
  },
  {
   "cell_type": "markdown",
   "metadata": {},
   "source": [
    "### 1-2) Method"
   ]
  },
  {
   "cell_type": "markdown",
   "metadata": {},
   "source": [
    "#### Class method, instance method"
   ]
  },
  {
   "cell_type": "code",
   "execution_count": 8,
   "metadata": {},
   "outputs": [],
   "source": [
    "# Class Method 정의\n",
    "class Class:\n",
    "    \n",
    "    @classmethod\n",
    "    def class_method(cls):\n",
    "        pass"
   ]
  },
  {
   "cell_type": "code",
   "execution_count": 9,
   "metadata": {},
   "outputs": [],
   "source": [
    "# Instance Method 정의\n",
    "class Class:\n",
    "\n",
    "    def instance_method(self):\n",
    "        pass"
   ]
  },
  {
   "cell_type": "markdown",
   "metadata": {},
   "source": [
    "##### [Example]  Class method/variable, Instance method/variable"
   ]
  },
  {
   "cell_type": "code",
   "execution_count": 116,
   "metadata": {},
   "outputs": [],
   "source": [
    "class Salary:\n",
    "\n",
    "    base_inc = 10\n",
    "    \n",
    "    def init_salary(self, name, salary):\n",
    "        self.name = name\n",
    "        self.salary = salary\n",
    "        \n",
    "    def get_salary(self):\n",
    "        return self.salary\n",
    "    \n",
    "    @classmethod\n",
    "    def get_base_inc(cls):\n",
    "        return cls.base_inc"
   ]
  },
  {
   "cell_type": "code",
   "execution_count": 119,
   "metadata": {},
   "outputs": [
    {
     "name": "stdout",
     "output_type": "stream",
     "text": [
      "10\n",
      "1000\n",
      "1500\n",
      "{'base_inc': 10, 'get_base_inc': <classmethod object at 0x00000000068D8588>, '__weakref__': <attribute '__weakref__' of 'Salary' objects>, '__doc__': None, '__module__': '__main__', 'init_salary': <function Salary.init_salary at 0x000000000699A158>, '__dict__': <attribute '__dict__' of 'Salary' objects>, 'get_salary': <function Salary.get_salary at 0x000000000699A840>}\n",
      "{'name': 'kim', 'salary': 1000}\n"
     ]
    }
   ],
   "source": [
    "kim = Salary()\n",
    "kim.init_salary(\"kim\", 1000)\n",
    "\n",
    "lee = Salary()\n",
    "lee.init_salary(\"lee\", 1500)\n",
    "\n",
    "print(Salary.get_base_inc())\n",
    "print(kim.get_salary())\n",
    "print(lee.get_salary())\n",
    "\n",
    "print(Salary.__dict__)\n",
    "print(kim.__dict__)"
   ]
  },
  {
   "cell_type": "markdown",
   "metadata": {},
   "source": [
    "### 1-3) 생성자(__init__) / 소멸자(__del__)"
   ]
  },
  {
   "cell_type": "code",
   "execution_count": 29,
   "metadata": {},
   "outputs": [],
   "source": [
    "class ClassName:\n",
    "    \n",
    "    def __init__(self, v1, v2=10):\n",
    "        print(\"Call __init__ [{}]\".format(id(self)))\n",
    "        self.v1 = v1\n",
    "        self.v2 = v2\n",
    "    \n",
    "    def method(self):\n",
    "        pass\n",
    "    \n",
    "    def __del__(self):\n",
    "        print(\"Call __del__  [{}]\".format(id(self)))"
   ]
  },
  {
   "cell_type": "code",
   "execution_count": 30,
   "metadata": {},
   "outputs": [
    {
     "name": "stdout",
     "output_type": "stream",
     "text": [
      "Call __init__ [109939288]\n",
      "Call __del__  [110018176]\n",
      "Call __init__ [109939400]\n",
      "Call __del__  [110017728]\n",
      "Print v1, v2\n",
      "1 2\n",
      "10 10\n"
     ]
    }
   ],
   "source": [
    "c1 = ClassName(1, 2)\n",
    "c2 = ClassName(10)\n",
    "\n",
    "print(\"Print v1, v2\")\n",
    "print(c1.v1, c1.v2)\n",
    "print(c2.v1, c2.v2)"
   ]
  },
  {
   "cell_type": "markdown",
   "metadata": {},
   "source": [
    "#### [참고] protected, private"
   ]
  },
  {
   "cell_type": "code",
   "execution_count": 77,
   "metadata": {},
   "outputs": [],
   "source": [
    "class Account:\n",
    "    def __init__(self, name):\n",
    "        self.name = name\n",
    "        self.__money = 0\n",
    "        self._add_count =0\n",
    "        \n",
    "    def history(self):\n",
    "        self._add_count += 1\n",
    "        \n",
    "    def add(self, money):\n",
    "        self.__money += money\n",
    "        self.history()\n",
    "        \n",
    "    def deposit(self):\n",
    "        return self.__money"
   ]
  },
  {
   "cell_type": "code",
   "execution_count": 78,
   "metadata": {},
   "outputs": [
    {
     "name": "stdout",
     "output_type": "stream",
     "text": [
      "10000\n",
      "10000\n",
      "1\n"
     ]
    }
   ],
   "source": [
    "user1 = Account(\"user_1\")\n",
    "user1.add(10000)\n",
    "\n",
    "print(user1.deposit())\n",
    "print(user1._Account__money)\n",
    "\n",
    "print(user1._add_count)"
   ]
  },
  {
   "cell_type": "markdown",
   "metadata": {},
   "source": [
    "### 2) 상속 (Ingeritance)\n",
    "#### 부모의 모든 것을 물려받는 것"
   ]
  },
  {
   "cell_type": "code",
   "execution_count": 156,
   "metadata": {},
   "outputs": [],
   "source": [
    "class ParentClass:\n",
    "    \n",
    "    def method_parent(self):\n",
    "        pass\n",
    "    \n",
    "class ChildClass(ParentClass):\n",
    "    \n",
    "    def method_child(self):\n",
    "        pass"
   ]
  },
  {
   "cell_type": "markdown",
   "metadata": {},
   "source": [
    "#### Example"
   ]
  },
  {
   "cell_type": "code",
   "execution_count": 10,
   "metadata": {},
   "outputs": [],
   "source": [
    "class Person:\n",
    "    \n",
    "    def __init__(self):\n",
    "        print(\"[init] Person Class\")\n",
    "        self.sleep = 'go to bed'\n",
    "        \n",
    "    def greeting(self):\n",
    "        print(\"Hello\")\n",
    "\n",
    "# Person Class 상속\n",
    "class Employee(Person):\n",
    "    \n",
    "    def __init__(self):\n",
    "        print(\"[init] Employee Class\")\n",
    "        self.work = 'go to work'"
   ]
  },
  {
   "cell_type": "code",
   "execution_count": 13,
   "metadata": {},
   "outputs": [
    {
     "name": "stdout",
     "output_type": "stream",
     "text": [
      "[init] Employee Class\n",
      "Hello\n"
     ]
    }
   ],
   "source": [
    "# 부모의 greeting() 함수 사용\n",
    "kim = Employee()\n",
    "kim.greeting()"
   ]
  },
  {
   "cell_type": "code",
   "execution_count": 14,
   "metadata": {},
   "outputs": [
    {
     "data": {
      "text/plain": [
       "True"
      ]
     },
     "execution_count": 14,
     "metadata": {},
     "output_type": "execute_result"
    }
   ],
   "source": [
    "issubclass(Employee, Person)"
   ]
  },
  {
   "cell_type": "markdown",
   "metadata": {},
   "source": [
    "###  2-1. 오버라이딩(Overriding)\n",
    "##### 부모 클래스로부터 상속받은 특성을 자식 클래스에서 재정의"
   ]
  },
  {
   "cell_type": "markdown",
   "metadata": {},
   "source": [
    "#### 1) 부모 클래스의 함수를 재정의 "
   ]
  },
  {
   "cell_type": "code",
   "execution_count": 171,
   "metadata": {},
   "outputs": [],
   "source": [
    "class Person:\n",
    "        \n",
    "    def greeting(self):\n",
    "        print(\"Hello\")\n",
    "        \n",
    "class Employee(Person):\n",
    "        \n",
    "    def greeting(self):\n",
    "        print(\"안녕하세요\")"
   ]
  },
  {
   "cell_type": "code",
   "execution_count": 172,
   "metadata": {},
   "outputs": [
    {
     "name": "stdout",
     "output_type": "stream",
     "text": [
      "안녕하세요\n"
     ]
    }
   ],
   "source": [
    "kim = Employee()\n",
    "kim.greeting()"
   ]
  },
  {
   "cell_type": "markdown",
   "metadata": {},
   "source": [
    "#### 2) 부모의 기능을 유지하면서 새로운 기능을 덧붙일때 "
   ]
  },
  {
   "cell_type": "code",
   "execution_count": 175,
   "metadata": {},
   "outputs": [],
   "source": [
    "class Person:\n",
    "        \n",
    "    def greeting(self):\n",
    "        print(\"Hello\")\n",
    "        \n",
    "class Employee(Person):\n",
    "        \n",
    "    def greeting(self):\n",
    "        super().greeting()\n",
    "        print(\"Nice to meet you\")"
   ]
  },
  {
   "cell_type": "code",
   "execution_count": 176,
   "metadata": {},
   "outputs": [
    {
     "name": "stdout",
     "output_type": "stream",
     "text": [
      "Hello\n",
      "Nice to meet you\n"
     ]
    }
   ],
   "source": [
    "kim = Employee()\n",
    "kim.greeting()"
   ]
  }
 ],
 "metadata": {
  "kernelspec": {
   "display_name": "Python 3",
   "language": "python",
   "name": "python3"
  },
  "language_info": {
   "codemirror_mode": {
    "name": "ipython",
    "version": 3
   },
   "file_extension": ".py",
   "mimetype": "text/x-python",
   "name": "python",
   "nbconvert_exporter": "python",
   "pygments_lexer": "ipython3",
   "version": "3.5.3"
  }
 },
 "nbformat": 4,
 "nbformat_minor": 2
}
