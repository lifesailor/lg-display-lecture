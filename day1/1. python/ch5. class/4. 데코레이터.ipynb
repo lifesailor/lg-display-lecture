{
 "cells": [
  {
   "cell_type": "markdown",
   "metadata": {
    "colab_type": "text",
    "id": "otp5dPwnQmYH"
   },
   "source": [
    "참고: Python Cookbook"
   ]
  },
  {
   "cell_type": "markdown",
   "metadata": {
    "colab_type": "text",
    "id": "ia-PL4KBQmYI"
   },
   "source": [
    "메타프로그래밍이란 코드를 다루는(수정, 생성, 기존 코드 감싸기 등) 함수나 클래스를 만드는 것을 가리킨다. 주요 기능에는 데코레이터, 클래스 데코레이터, 메타클래스가 포함된다. "
   ]
  },
  {
   "cell_type": "markdown",
   "metadata": {
    "colab_type": "text",
    "id": "PCrkjaCXQmYJ"
   },
   "source": [
    "# 데코레이터"
   ]
  },
  {
   "cell_type": "markdown",
   "metadata": {},
   "source": [
    "- Decorator는 어떤 경우에 사용할까 ?\n",
    "\n",
    "메인 구문이 있고, 여기에 부가적인 구문을 추가하고 싶을 때\n",
    "그리고 부가적인 구문을 반복해서 사용하고 싶은 경우 부가적인 작업을 decorator로 선언해서 자유롭게 사용할 수 있음"
   ]
  },
  {
   "cell_type": "markdown",
   "metadata": {},
   "source": [
    "#### Example"
   ]
  },
  {
   "cell_type": "code",
   "execution_count": 7,
   "metadata": {},
   "outputs": [],
   "source": [
    "def wrap_function(func):\n",
    "    \n",
    "    def wrapping():\n",
    "        print(\"Hi\")\n",
    "        func()\n",
    "        print(\"Nice to meet you\")\n",
    "    return wrapping"
   ]
  },
  {
   "cell_type": "code",
   "execution_count": 8,
   "metadata": {},
   "outputs": [],
   "source": [
    "@wrap_function\n",
    "def main_fucntion():\n",
    "    print(\"My Name is A\")"
   ]
  },
  {
   "cell_type": "code",
   "execution_count": 9,
   "metadata": {},
   "outputs": [
    {
     "name": "stdout",
     "output_type": "stream",
     "text": [
      "Hi\n",
      "My Name is A\n",
      "Nice to meet you\n"
     ]
    }
   ],
   "source": [
    "main_fucntion()"
   ]
  },
  {
   "cell_type": "markdown",
   "metadata": {
    "colab_type": "text",
    "id": "1dIL8rdAQmYL"
   },
   "source": [
    "1. 함수에 추가적인 처리(로깅, 타이밍 등)을 하는 Wrapper Layer를 넣고 싶다."
   ]
  },
  {
   "cell_type": "code",
   "execution_count": 13,
   "metadata": {
    "colab": {},
    "colab_type": "code",
    "id": "arVou4zIQmYL"
   },
   "outputs": [],
   "source": [
    "import time\n",
    "from functools import wraps\n",
    "\n",
    "def timethis(func):\n",
    "    '''\n",
    "    실행 시간을 보고하는 데코레이터\n",
    "    '''\n",
    "    \n",
    "    @wraps(func)\n",
    "    def wrapper(*args, **kwargs):\n",
    "        start = time.time()\n",
    "        result = func(*args, **kwargs)\n",
    "        end = time.time()\n",
    "        print(func.__name__, end-start)\n",
    "        return result\n",
    "    return wrapper"
   ]
  },
  {
   "cell_type": "code",
   "execution_count": 14,
   "metadata": {
    "colab": {},
    "colab_type": "code",
    "id": "HTaSQIBWQmYR"
   },
   "outputs": [],
   "source": [
    "@timethis\n",
    "def countdown(n):\n",
    "    '''\n",
    "    Count down\n",
    "    '''\n",
    "    while n > 0:\n",
    "        n -= 1"
   ]
  },
  {
   "cell_type": "code",
   "execution_count": 15,
   "metadata": {
    "colab": {},
    "colab_type": "code",
    "id": "SQ4mrSpbQmYU",
    "outputId": "023af77c-49be-4db0-add6-79fc6a7518ae"
   },
   "outputs": [
    {
     "name": "stdout",
     "output_type": "stream",
     "text": [
      "countdown 0.0010001659393310547\n"
     ]
    }
   ],
   "source": [
    "countdown(10000)"
   ]
  },
  {
   "cell_type": "markdown",
   "metadata": {
    "colab_type": "text",
    "id": "Qf-PtpFDQmYa"
   },
   "source": [
    "- 데코레이터는 입력으로 함수를 받고 새로운 함수를 반환한다."
   ]
  },
  {
   "cell_type": "code",
   "execution_count": 0,
   "metadata": {
    "colab": {},
    "colab_type": "code",
    "id": "wAPULOybQmYc"
   },
   "outputs": [],
   "source": [
    "@timethis\n",
    "def countdown(n):\n",
    "    pass\n",
    "    \n",
    "def countdown(n):\n",
    "    countdown = timethis(countdown)\n",
    "    pass"
   ]
  },
  {
   "cell_type": "markdown",
   "metadata": {
    "colab_type": "text",
    "id": "vGvXghICQmYf"
   },
   "source": [
    "- 위 두 가지의 코드는 같다."
   ]
  },
  {
   "cell_type": "markdown",
   "metadata": {
    "colab_type": "text",
    "id": "Qq1ciiPaQmYg"
   },
   "source": [
    "2. @classmethod, @staticmethod, @property와 같은 데코레이터도 동일하게 동작한다."
   ]
  },
  {
   "cell_type": "code",
   "execution_count": 0,
   "metadata": {
    "colab": {},
    "colab_type": "code",
    "id": "0hxiSVuBQmYh"
   },
   "outputs": [],
   "source": [
    "class A:\n",
    "    @classmethod\n",
    "    def method(cls):\n",
    "        pass\n",
    "    \n",
    "class B:\n",
    "    def method(cls):\n",
    "        pass\n",
    "    \n",
    "    method = classmethod(method)"
   ]
  },
  {
   "cell_type": "markdown",
   "metadata": {
    "colab_type": "text",
    "id": "DO7R4yUtQmYl"
   },
   "source": [
    "- 위의 두 코드는 동일하다."
   ]
  },
  {
   "cell_type": "markdown",
   "metadata": {
    "colab_type": "text",
    "id": "LoWDc6MqQmYm"
   },
   "source": [
    "데코레이터 내부 코드는 이번 레시피 wrapper() 함수에 나왔던 것처럼 \\*args와 \\**kwargs로 매개변수를 받는 새로운 함수를 생성하는 것과 관련이 있다. 이 함수에서 원본 입력 함수를 호출하고 결과를 반환한다. 하지만, 추가적인 코드(타이밍 등)를 부팅ㄹ 수 있다. 새롭게 생성한 함수 wrapper가 결과로 반환되고 원본 함수를 대신한다.\n",
    "\n",
    "데코레이터는 일반적으로 호출 시그니처나 감싸고 있는 함수의 반환 값을 수정하지 않는다는 점이 중요하다. 그리고 어떠한 입력 인자라도 받을 수 있도록 \\*args와 \\**args를 사용햇다. 데코레이터 반환 값은 대부분 func(\\*args, \\**kwargs)를 호출한 결과 값이 되고, 이 때 func는 감싸지 않은 원본 함수이다."
   ]
  },
  {
   "cell_type": "code",
   "execution_count": 0,
   "metadata": {
    "colab": {},
    "colab_type": "code",
    "id": "wvVeyhLTQmYn"
   },
   "outputs": [],
   "source": []
  }
 ],
 "metadata": {
  "colab": {
   "name": "4. 데코레이터.ipynb",
   "provenance": [],
   "version": "0.3.2"
  },
  "kernelspec": {
   "display_name": "Python 3",
   "language": "python",
   "name": "python3"
  },
  "language_info": {
   "codemirror_mode": {
    "name": "ipython",
    "version": 3
   },
   "file_extension": ".py",
   "mimetype": "text/x-python",
   "name": "python",
   "nbconvert_exporter": "python",
   "pygments_lexer": "ipython3",
   "version": "3.5.3"
  }
 },
 "nbformat": 4,
 "nbformat_minor": 1
}
