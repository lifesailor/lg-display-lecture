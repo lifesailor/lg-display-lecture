{
 "cells": [
  {
   "cell_type": "markdown",
   "metadata": {},
   "source": [
    "# 1. sys"
   ]
  },
  {
   "cell_type": "markdown",
   "metadata": {},
   "source": [
    "sys 모듈은 파이썬 인터프리터가 제공하는 변수들과 함수들을 직접 제어할 수 있게 해주는 모듈이다."
   ]
  },
  {
   "cell_type": "markdown",
   "metadata": {},
   "source": [
    "### 1. 자신이 만든 모듈 불러와 사용하기 - sys.path"
   ]
  },
  {
   "cell_type": "code",
   "execution_count": 13,
   "metadata": {},
   "outputs": [],
   "source": [
    "import sys"
   ]
  },
  {
   "cell_type": "code",
   "execution_count": 14,
   "metadata": {},
   "outputs": [
    {
     "data": {
      "text/plain": [
       "['',\n",
       " '/anaconda3/envs/base-workspace/lib/python36.zip',\n",
       " '/anaconda3/envs/base-workspace/lib/python3.6',\n",
       " '/anaconda3/envs/base-workspace/lib/python3.6/lib-dynload',\n",
       " '/anaconda3/envs/base-workspace/lib/python3.6/site-packages',\n",
       " '/anaconda3/envs/base-workspace/lib/python3.6/site-packages/IPython/extensions',\n",
       " '/Users/lifesailor/.ipython',\n",
       " '/Users/lifesailor/Google Drive/Foresight/201809 - 201812/Project 2. LG 전자 교육/최종/소스코드/Day_1/PPT_sample_code/Ch_6_모듈과 패키지/1. module',\n",
       " '/Users/lifesailor/Google Drive/Foresight/201809 - 201812/Project 2. LG 전자 교육/최종/소스코드/Day_1/PPT_sample_code/Ch_6_모듈과 패키지/1. module']"
      ]
     },
     "execution_count": 14,
     "metadata": {},
     "output_type": "execute_result"
    }
   ],
   "source": [
    "sys.path"
   ]
  },
  {
   "cell_type": "code",
   "execution_count": 15,
   "metadata": {},
   "outputs": [],
   "source": [
    "sys.path.append('/Users/lifesailor/Google Drive/Foresight/201809 - 201812/Project 2. LG 전자 교육/최종/소스코드/Day_1/PPT_sample_code/Ch_6_모듈과 패키지/1. module')"
   ]
  },
  {
   "cell_type": "code",
   "execution_count": 16,
   "metadata": {},
   "outputs": [],
   "source": [
    "from module import PI"
   ]
  },
  {
   "cell_type": "code",
   "execution_count": 17,
   "metadata": {},
   "outputs": [
    {
     "data": {
      "text/plain": [
       "3.141592"
      ]
     },
     "execution_count": 17,
     "metadata": {},
     "output_type": "execute_result"
    }
   ],
   "source": [
    "PI"
   ]
  },
  {
   "cell_type": "markdown",
   "metadata": {},
   "source": [
    "### 2. 명령 행에서 인수 전달하기 - sys.argv"
   ]
  },
  {
   "cell_type": "code",
   "execution_count": 19,
   "metadata": {},
   "outputs": [],
   "source": [
    "import sys"
   ]
  },
  {
   "cell_type": "code",
   "execution_count": 20,
   "metadata": {},
   "outputs": [
    {
     "name": "stdout",
     "output_type": "stream",
     "text": [
      "['/anaconda3/envs/base-workspace/lib/python3.6/site-packages/ipykernel_launcher.py', '-f', '/Users/lifesailor/Library/Jupyter/runtime/kernel-68fc8b43-8110-4a8d-8a74-fde5c50592a6.json']\n"
     ]
    }
   ],
   "source": [
    "print(sys.argv)"
   ]
  },
  {
   "cell_type": "markdown",
   "metadata": {},
   "source": [
    "# 2. os"
   ]
  },
  {
   "cell_type": "markdown",
   "metadata": {},
   "source": [
    "OS 모듈은 환경 변수나 디렉터리, 파일 등의 OS 자원을 제어할 수 있게 해주는 모듈이다.\n",
    "\n"
   ]
  },
  {
   "cell_type": "code",
   "execution_count": 34,
   "metadata": {},
   "outputs": [],
   "source": [
    "import os"
   ]
  },
  {
   "cell_type": "markdown",
   "metadata": {},
   "source": [
    "### 1. current dir"
   ]
  },
  {
   "cell_type": "code",
   "execution_count": 22,
   "metadata": {},
   "outputs": [
    {
     "data": {
      "text/plain": [
       "'/Users/lifesailor/Google Drive/Foresight/201809 - 201812/Project 2. LG 전자 교육/최종/소스코드/Day_1/PPT_sample_code/Ch_6_모듈과 패키지'"
      ]
     },
     "execution_count": 22,
     "metadata": {},
     "output_type": "execute_result"
    }
   ],
   "source": [
    "os.getcwd()"
   ]
  },
  {
   "cell_type": "markdown",
   "metadata": {},
   "source": [
    "### 2. make dir"
   ]
  },
  {
   "cell_type": "code",
   "execution_count": 25,
   "metadata": {},
   "outputs": [],
   "source": [
    "os.makedirs('./os_test/')\n",
    "#os.rmdir('./os_test/')"
   ]
  },
  {
   "cell_type": "markdown",
   "metadata": {},
   "source": [
    "### 3. file"
   ]
  },
  {
   "cell_type": "code",
   "execution_count": 36,
   "metadata": {},
   "outputs": [
    {
     "data": {
      "text/plain": [
       "['.DS_Store',\n",
       " 'Icon\\r',\n",
       " '1. module',\n",
       " '3. sys, os.ipynb',\n",
       " '2. package',\n",
       " '.ipynb_checkpoints',\n",
       " 'os_test']"
      ]
     },
     "execution_count": 36,
     "metadata": {},
     "output_type": "execute_result"
    }
   ],
   "source": [
    "os.listdir('./')"
   ]
  },
  {
   "cell_type": "markdown",
   "metadata": {},
   "source": [
    "# 3. glob"
   ]
  },
  {
   "cell_type": "markdown",
   "metadata": {},
   "source": [
    "가끔 파일을 읽고 쓰는 기능이 있는 프로그램을 만들다 보면 특정 디렉터리에 있는 파일 이름 모두를 알아야 할 때가 있다. 이럴 때 사용하는 모듈이 바로 glob이다.\n",
    "\n",
    "디렉터리에 있는 파일들을 리스트로 만들기 - glob(pathname)\n",
    "glob 모듈은 디렉터리 내의 파일들을 읽어서 리턴한다. *, ? 등의 메타 문자를 써서 원하는 파일만 읽어 들일 수도 있다.\n",
    "\n",
    "다음은 C:/doit이라는 디렉터리에 있는 파일 중 이름이 문자 q로 시작하는 파일들을 모두 찾아서 읽어 들이는 예이다.\n",
    "\n"
   ]
  },
  {
   "cell_type": "code",
   "execution_count": 26,
   "metadata": {},
   "outputs": [],
   "source": [
    "import glob"
   ]
  },
  {
   "cell_type": "code",
   "execution_count": 33,
   "metadata": {},
   "outputs": [
    {
     "data": {
      "text/plain": [
       "['../Ch_5_Class/3. 이터레이터, 제너레이터.ipynb',\n",
       " '../Ch_5_Class/2. 매직 메소드.ipynb',\n",
       " '../Ch_5_Class/4. 데코레이터.ipynb',\n",
       " '../Ch_5_Class/1. Class.ipynb']"
      ]
     },
     "execution_count": 33,
     "metadata": {},
     "output_type": "execute_result"
    }
   ],
   "source": [
    "glob.glob(\"../Ch_5_Class/*.ipynb\")"
   ]
  }
 ],
 "metadata": {
  "kernelspec": {
   "display_name": "Python 3",
   "language": "python",
   "name": "python3"
  },
  "language_info": {
   "codemirror_mode": {
    "name": "ipython",
    "version": 3
   },
   "file_extension": ".py",
   "mimetype": "text/x-python",
   "name": "python",
   "nbconvert_exporter": "python",
   "pygments_lexer": "ipython3",
   "version": "3.5.3"
  }
 },
 "nbformat": 4,
 "nbformat_minor": 2
}
