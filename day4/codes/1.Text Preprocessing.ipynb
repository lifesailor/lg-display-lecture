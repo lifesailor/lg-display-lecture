{
 "cells": [
  {
   "cell_type": "markdown",
   "metadata": {},
   "source": [
    "# 1. 텍스트 전처리"
   ]
  },
  {
   "cell_type": "markdown",
   "metadata": {},
   "source": [
    "자연어 처리에 있어서 텍스트 전처리는 매우 중요한 작업입니다. 텍스트 전처리는 여러분의 용도에 맞게 텍스트를 사전에 분류하는 작업입니다. 요리에 있어서 재료를 제대로 손질하지 않으면, 요리가 제대로 되지 않는 것과 같습니다. 텍스트에 대해서 제대로 된 전처리를 하지 않으면 뒤에서 배울 자연어 처리 기법들이 제대로 동작하지 않습니다. 이 챕터에서는 텍스트를 전처리하기 위한 각종 기법에 대해서 배웁니다."
   ]
  },
  {
   "cell_type": "markdown",
   "metadata": {},
   "source": [
    "# 2. Application"
   ]
  },
  {
   "cell_type": "markdown",
   "metadata": {},
   "source": [
    "1. Sentiment Analysis (감정 분석)\n",
    "\n",
    "감정 분석은 사람들이 남긴 글로부터 그 글이 담긴 감정이 긍정적인지, 부정적인지를 판단합니다. 보통 영화나 식당과 같은 서비스를 이용하고 남긴 글에서 감정을 판단하는데 사용됩니다. 이러한 언어의 경우에는 감정에 분석에 필요한 글 외에는 전부 불용어 처리할 필요가 있습니다.\n",
    "\n"
   ]
  },
  {
   "cell_type": "markdown",
   "metadata": {},
   "source": [
    "2. Spell Correction (철자 교정)\n",
    "\n",
    "구글에 철자가 잘못된 문장을 검색하면, 구글은 자동적으로 철자를 교정하는 모습을 보여줍니다. 이는 철자 교정을 위해서 두 문장의 유사성을 비교하는 개념이 들어가있음을 알 수 있습니다. 이를 이해하기 위해서 이 다음 장에서 문장의 유사성을 측정하는 메커니즘인 최소 편집 거리를 정리합니다.\n",
    "\n"
   ]
  },
  {
   "cell_type": "markdown",
   "metadata": {},
   "source": [
    "3. Machine Translation (기계 번역)\n",
    "\n",
    "기계 번역에는 병렬 코퍼스(parallel corpus)가 사용됩니다. 전처리에서 검증되야할 부분은 병럴 코퍼스 각각의 쌍이 적절히 배치되고 있는 가를 확인할 필요가 있습니다. 입력 코퍼스가 영어권 문장이지만, 출력 코퍼스가 영어권 문장이 아니라면 앞서 언급한 전처리 방법인 입력 코퍼스를 전부 소문자화할 수도 있습니다.\n",
    "\n"
   ]
  },
  {
   "cell_type": "code",
   "execution_count": null,
   "metadata": {},
   "outputs": [],
   "source": []
  }
 ],
 "metadata": {
  "kernelspec": {
   "display_name": "Python 3",
   "language": "python",
   "name": "python3"
  },
  "language_info": {
   "codemirror_mode": {
    "name": "ipython",
    "version": 3
   },
   "file_extension": ".py",
   "mimetype": "text/x-python",
   "name": "python",
   "nbconvert_exporter": "python",
   "pygments_lexer": "ipython3",
   "version": "3.6.7"
  }
 },
 "nbformat": 4,
 "nbformat_minor": 2
}
