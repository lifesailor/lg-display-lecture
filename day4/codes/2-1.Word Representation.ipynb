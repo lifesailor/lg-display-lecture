{
 "cells": [
  {
   "cell_type": "markdown",
   "metadata": {},
   "source": [
    "# 신경망 기반의 단어 표현(Neural Network based Word Representation)"
   ]
  },
  {
   "cell_type": "markdown",
   "metadata": {},
   "source": [
    "자연어를 컴퓨터가 이해하고, 효율적으로 처리하게 하기 위해서는 컴퓨터가 이해할 수 있도록 자연어를 적절히 변환할 필요가 있습니다. 단어를 표현하는 방법에 따라서 자연어 처리의 성능이 크게 달라지기 때문에 이에 대한 많은 연구가 있었고, 여러가지 방법들이 알려져 있습니다.\n"
   ]
  },
  {
   "cell_type": "markdown",
   "metadata": {},
   "source": [
    "# 1. Word2Vec"
   ]
  },
  {
   "cell_type": "markdown",
   "metadata": {},
   "source": [
    "앞서 단어의 표편 챕터에서 원-핫 인코딩은 단어 간 유사성을 계산할 수 없다는 단점이 있음을 언급한 적이 있습니다. 이는 원 핫 인코딩으로 단어를 표현하면 벡터에 단어의 의미가 들어가있지 않기 때문입니다. 의미가 담겨있지 않은 벡터들을 비교하려고 해도 비교할 수는 없습니다. 그렇다면, 단어 간 유사성을 고려하기 위해서는 단어의 의미를 벡터화하면 되겠지요.\n",
    "\n",
    "그리고 이를 가능하게 하는 방법이 워드투벡터(Word2Vec)입니다. 워드투벡터의 개념을 설명하기에 앞서, 워드투벡터가 어떤 일을 할 수 있는지 먼저 확인하고 가보도록 하겠습니다. 위 사이트는 한글로 워드투벡터 연산을 해볼 수 있는 사이트입니다. 위 사이트에서는 단어들로 더하기, 빼기 연산을 할 수 있습니다. 예를 들어 이런 식들을 집어 넣으면, 이런 답들이 나옵니다.\n",
    "\n",
    "고양이 + 애교 = 강아지\n",
    "한국 - 서울 + 도쿄 = 일본\n",
    "박찬호 - 야구 + 축구 = 호나우두\n",
    "\n",
    "신기하게도 단어가 갖고있는 의미들을 가지고 연산을 하고 있는 것처럼 보입니다. 이런 연산이 가능한 이유는 각 단어에 있는 어떤 상징성, 의미가 벡터로 계산되었기 때문입니다. 어떻게 이런 일이 가능한 것일까요?\n",
    "\n"
   ]
  },
  {
   "cell_type": "markdown",
   "metadata": {},
   "source": [
    "[word2vec](http://w.elnn.kr/search/)\n"
   ]
  },
  {
   "cell_type": "markdown",
   "metadata": {},
   "source": [
    "## 1. 희소 표현(Sparse Represnetation)\n"
   ]
  },
  {
   "cell_type": "markdown",
   "metadata": {},
   "source": [
    "앞서 원-핫 인코딩을 통해서 나온 원-핫 벡터들은 표현하고자 하는 단어의 인덱스의 값만 1이고, 나머지 인덱스에는 전부 0으로 표현되는 벡터 표현 방법이었습니다. 이렇게 벡터 또는 행렬(Matrix)의 값이 대부분이 0으로 표현되는 방법을 희소 표현(Sparse Reprenation)이라고 합니다. 그러니까 원-핫 벡터는 희소 벡터(Sparse Vector)입니다.\n",
    "\n",
    "하지만 이러한 표현 방법은 각 단어간 유사성을 표현할 수 없다는 단점이 있었고, 이를 위한 대안으로 단어의 '의미'를 다차원 공간에 벡터화하는 방법을 찾게되는데, 이러한 표현 방법을 분산 표현(Distribution Representation)이라고 합니다. 그리고 이렇게 분산 표현을 이용하여 단어의 의미를 벡터화하는 작업을 임베딩(embedding) 작업이라고 하기 때문에, 이렇게 표현된 벡터를 임베딩 벡터(embedding vector)라고도 합니다."
   ]
  },
  {
   "cell_type": "markdown",
   "metadata": {},
   "source": [
    "## 2. 분산 표현(Distributed Representation)"
   ]
  },
  {
   "cell_type": "markdown",
   "metadata": {},
   "source": [
    "분산 표현(Distributed Representation) 방법은 기본적으로 분포 가설(Distributional Hypothesis)이라는 가정 하에 만들어진 표현 방법입니다. 이 가정은 '비슷한 위치에서 등장하는 단어들은 비슷한 의미를 가진다'라는 가정입니다. 강아지란 단어는 귀엽다, 예쁘다, 애교 등의 단어가 주로 함께 등장하게 되는데 분포 가설에 따라서 저런 내용을 가진 텍스트를 벡터화한다면 저 단어들은 의미적으로 가까운 단어가 되는 것입니다. 분산 표현은 분포 가설 가정을 이용하여 코퍼스로부터 단어들의 데이터 셋을 학습하고, 벡터에 단어의 의미를 여러 차원에 분산하여 벡터로 표현합니다.\n",
    "\n",
    "이렇게 표현된 벡터들은 원-핫 벡터처럼 굳이 벡터의 크기가 단어 집합(Vocabulary)의 크기일 필요가 없으므로, 벡터의 크기가 저차원으로 줄어듭니다. 원 핫 벡터로 표현할 때는 갖고 있는 코퍼스에 단어가 10,000개였다면 벡터의 차원은 10,000이어야만 했습니다. 심지어 그 중에서 단어의 인덱스에 해당되는 부분만 1이고 나머지는 0의 값을 가져야만 했습니다. 단어 집합이 클수록 그만한 크기의 고차원의 벡터가 되는 것입니다. 예를 들어 단어가 10,000개 있고 강아지란 단어의 인덱스는 5였다면 원 핫 벡터는 이렇게 표현되어야 했습니다.\n",
    "\n",
    "Ex) 강아지 = [ 0 0 0 0 1 0 0 0 0 0 0 0 ... 중략 ... 0]\n",
    "\n",
    "1이란 값 뒤에는 0이 9995개가 등장하는 벡터가 됩니다. 하지만 워드투벡터로 임베딩 된 벡터는 굳이 벡터의 차원이 단어 집합의 크기가 될 필요가 없습니다. 즉, 강아지란 단어를 표현하기 위해서는 차원 수가 이제 10,000개가 되지 않아도 상관없으며 사용자가 설정한 차원의 크기만 갖게 됩니다. 그리고 이제 더 이상 1과 0의 값으로만 이루어진 벡터도 아닙니다.\n",
    "\n",
    "Ex) 강아지 = [0.2 0.3 0.5 0.7 0.2 ... 중략 ... 0.2]\n",
    "\n",
    "요약하면, 희소 표현은 고차원에 각 차원이 분리된 표현 방법이었다면, 분산 표현은 저차원에다가 단어의 의미를 표현하되, 여러 차원에다가 분산하여 표현한다는 것입니다. 그리고 이런 표현 방법을 사용하면, 단어 간 유사도를 계산할 수 있습니다. 이제 개념을 알았으니, 대체 어떤 방법으로 저렇게 표현하는지 알아봐야 겠습니다.\n",
    "\n",
    "이를 위한 학습 방법으로는 과거에는 NNLM, RNNLM이 있었으나, 현재에 와서는 해당 방법들의 속도를 대폭 개선시킨 워드투벡터(Word2Vec)가 쓰이고 있습니다. 이 장에서는 워드투벡터(Word2Vec)에 대해서 배울 것입니다.\n",
    "\n"
   ]
  },
  {
   "cell_type": "markdown",
   "metadata": {},
   "source": [
    "## 3. CBOW(Continuous Bag of Words)"
   ]
  },
  {
   "cell_type": "markdown",
   "metadata": {},
   "source": [
    "Word2Vec에는 CBOW(Continuous Bag of Words)와 Skip-Gram 두 가지 방식이 있습니다. CBOW는 주변에 있는 단어들을 가지고, 중간에 있는 단어들을 예측하는 방법입니다. 반대로, Skip-Gram은 중간에 있는 단어로 주변 단어들을 예측하는 방법입니다. 메커니즘 자체는 거의 동일하기 때문에 CBOW를 이해한다면 Skip-Gram도 손쉽게 이해 가능합니다. 우선 CBOW에 대해서 알아보도록 하겠습니다. 이해를 위해 매우 간소화 된 형태의 CBOW로 설명할 것입니다.\n",
    "\n",
    "예문 : \"The fat cat sat on the mat\"\n",
    "\n",
    "에를 들어서 여러분들이 갖고 있는 코퍼스에 위와 같은 문장이 있다고 합시다. 가운데 단어를 예측하는 것이 CBOW라고 했습니다. {\"the\", \"fat\", \"cat\", \"on\", \"the\", \"mat\"}으로부터 sat을 예측하는 것은 CBOW가 하는 일입니다. 이 때 예측해야하는 단어 sat을 중심 단어(center world)라고 하고, 예측에 사용되는 단어들을 주변 단어(context word)라고 합니다.\n",
    "\n",
    "중심 단어를 예측하기 위해서 앞, 뒤로 몇 개의 단어를 볼지를 결정했다면 이 범위를 윈도우(window)라고 합니다. 예를 들어서 윈도우 크기가 2이고, 예측하고자 하는 중심 단어가 sat이라고 한다면 앞의 두 단어인 the와 fat, 그리고 뒤의 두 단어인 on, the를 참고합니다. 향후, 수학적 일반화를 위해 미리 언급하자면 윈도우 크기가 m이라고 한다면, 실제 중심 단어를 예측하기 위해 참고하려고 하는 주변 단어의 개수는 2m이 될 것입니다.\n",
    "\n",
    "\n",
    "\n",
    "윈도우 크기를 정했다면, 윈도우를 계속 움직여서 주변 단어와 중심 단어 선택을 바꿔가며 학습을 위한 데이터 셋을 만들 수 있는데, 이 방법을 슬라이딩 윈도우(Sliding window)라고 합니다.\n",
    "\n",
    "위 그림에서 좌측의 중심 단어와 주변 단어의 변화는 윈도우 크기가 2일때, 슬라이딩 윈도우가 어떤 식으로 이루어지면서 데이터 셋을 만드는지 보여줍니다. 또한 Word2Vec에서 입력은 모두 원 핫 벡터가 되어야 하는데, 우측 그림은 중심 단어와 주변 단어를 어떻게 선택했을 때에 따라서 각각 어떤 원 핫 벡터가 되는지를 보여줍니다. 위 그림은 결국 CBOW를 위한 전체 데이터 셋을 보여주는 것입니다.\n",
    "\n",
    "\n",
    "\n",
    "CBOW의 뉴럴 네트워크를 간단히 도식화하면 다음과 같습니다. input layer의 입력으로서 앞, 뒤로 사용자가 정한 윈도우 크기 범위 안에 있는 주변 단어들의 원 핫 벡터가 들어가게 되고, output layer에서 예측하고자 하는 중간 단어의 원 핫 벡터가 필요합니다. 뒤에서 설명하겠지만, Word2Vec의 학습을 위해서 이 중간 단어의 원 핫 벡터가 필요합니다.\n",
    "\n",
    "\n",
    "CBOW의 뉴럴 네트워크를 좀 더 확대하여, 동작 메커니즘에 대해서 상세하게 알아보도록 하겠습니다. 이 그림에서 주목해야할 것은 두 가지 입니다. 하나는 hidden layer의 크기가 N이라는 점입니다. CBOW에서 hidden layer의 크기 N은 임베딩하고 난 벡터의 크기가 됩니다. 다시 말해, 위의 그림에서 hidden layer의 크기는 N=5이기 때문에 해당 CBOW를 수행하고나서 나오는 벡터의 크기는 5가 될 것입니다.\n",
    "\n",
    "<img src=\"../images/word2vec.png\">\n",
    "\n",
    "두번째는 입력층(input layer)과 은닉층(hidden layer)사이의 가중치 W는 V X N 행렬이며, 은닉층(hidden layer)에서 출력층(ouput layer)사이의 가중치 W'는 N X V 행렬이라는 점입니다. 여기서 V는 단어 집합의 크기를 의미합니다. 즉, 위의 그림처럼 원 핫 벡터의 차원이 7이고, N은 5라면 가중치 W는 7 X 5 행렬이고, W'는 5 X 7 행렬이 될 것입니다. 주의할 점은 이 두 행렬은 동일한 행렬을 Transpose한 것이 아니라, 서로 다른 행렬이라는 점입니다. 뉴럴 네트워크의 훈련 전에 이 가중치 행렬 W와 W'는 대게 굉장히 작은 랜덤 값을 가지게 됩니다. CBOW는 주변 단어로 중심 단어를 더 정확히 맞추기 위해 계속해서 이 W와 W'를 학습해가는 구조입니다.\n",
    "\n",
    "\n",
    "\n",
    "입력으로 들어오는 주변 단어의 원 핫 벡터와 가중치 W 행렬의 곱이 어떻게 이루어지는지 보겠습니다. 위 그림에서는 각 주변 단어의 원 핫 벡터를 x로 표기하였습니다. 입력 벡터는 원 핫 벡터이기 때문에 i번째 인덱스에 1이라는 값을 가지고 그 외의 0의 값을 가지는 입력 벡터와 가중치 W 행렬의 곱은 사실 W행렬의 i번째 행을 그대로 읽어오는 것과(lookup) 동일합니다. 그래서 이 작업을 Table lookup이라고도 부릅니다. 앞서 CBOW의 목적은 W와 W'를 잘 훈련시키는 것이라고 언급한 적이 있는데, 사실 그 이유가 여기서 lookup해온 W의 각 행벡터가 사실 Word2Vec을 수행한 후의 각 단어의 N차원의 크기를 갖는 임베딩 벡터들이기 떄문입니다.\n",
    "\n",
    "\n",
    "<img src=\"../images/word2vec(2).png\">\n",
    "\n",
    "\n",
    "이렇게 각 주변 단어의 원 핫 벡터에 대해서 가중치 W가 곱해서 생겨진 결과 벡터들은 은닉층에서 만나 이 벡터들의 평균인 벡터를 구하게 됩니다. 만약 윈도우 크기가 2라면, 입력 벡터의 총 갯수는 2m이기때문에 중간 단어를 예측하기 위해서는 총 4개가 입력 벡터로 들어가게 됩니다. 그렇기 때문에 평균을 구할 때는 4개의 결과 벡터에 대해서 평균을 구하게 됩니다. 은닉층에서 벡터의 평균을 구하는 부분은 CBOW가 Skip-Gram과 다른 차이점이기도 합니다. 뒤에서 보게되겠지만, Skip-Gram은 입력이 중심 단어 하나이기때문에 은닉층에서 벡터의 평균을 구하지 않습니다.\n",
    "\n",
    "<img src=\"../images/word2vec(3).png\">\n",
    "\n",
    "이렇게 구해진 평균 벡터는 두번째 가중치 행렬인 W'와 곱해집니다. 이렇게 되면 크기가 V와 동일한 벡터. 즉, 인풋이었던 원 핫 벡터들과 차원이 동일한 벡터가 나오게 됩니다. 만약 입력 벡터의 차원이 7이었다면 여기서 나오는 벡터도 마찬가지입니다.\n",
    "\n",
    "이 벡터에 CBOW는 softmax를 취하는데, softmax 함수로 인한 출력값은 0과 1사이의 실수로, 각 원소의 총 합은 1이 되는 상태로 바뀝니다. 이렇게 나온 벡터를 우리는 스코어 벡터(score vector)라고 합니다. 스코어 벡터의 각 차원 안에서의 값이 의미하는 것은 이와 같습니다.\n",
    "\n",
    "스코어 벡터의 j번째 인덱스가 가진 0과 1사이의 값은 j번째 단어가 중심 단어일 확률을 나타냅니다. 그리고 이 스코어 벡터는 우리가 실제로 값을 알고있는 벡터인 중심 단어 원 핫 벡터의 값에 가까워져야 합니다. 스코어 벡터를 𝑦 ̂라고 하겠습니다. 중심 단어를 y로 했을 때, 이 두 벡터가 가까워지게 하기위해서 CBOW는 cross-entropy 함수를 사용합니다. 즉, 다른 말로 loss function으로 cross-entropy 함수를 사용하는 것입니다.\n",
    "\n",
    "\n",
    "\n",
    "cross-entropy 함수에 실제 중심 단어인 원 핫 벡터와 스코어 벡터를 입력값으로 넣고, 이를 식으로 표현하면 위와 같습니다.\n",
    "\n",
    "\n",
    "그런데 y가 원 핫 벡터라는 점을 고려하면, 이 식은 위와 같이 간소화시킬 수 있습니다. 이 식이 왜 loss function으로 적합한지 알아보겠습니다. c를 중심 단어에서 1을 가진 차원의 값의 인덱스라고 한다면, 는 y^가 y를 정확하게 예측한 경우가 됩니다. 이를 식에 대입해보면 -1 log(1) = 0이 되기 때문에, 결과적으로 y^가 y를 정확하게 예측한 경우의 cross-entropy의 값은 0이 됩니다. 즉, 우리는  이 값을 최소화하는 방향으로 학습해야 합니다.\n",
    "\n",
    "이제 Back Propagation을 수행하면 W와 W'가 학습이 되는데, 학습이 다 되었다면 N차원의 크기를 갖는 W의 행이나 W'의 열로부터 어떤 것을 임베딩 벡터로 사용할지를 결정하면 됩니다. 때로는 W와 W'의 평균치를 가지고 임베딩 벡터를 선택하기도 합니다."
   ]
  },
  {
   "cell_type": "markdown",
   "metadata": {},
   "source": [
    "## 4. Skip-gram\n",
    "\n",
    "Skip-gram은 CBOW를 이해했다면, 메커니즘 자체는 동일하기 때문에 쉽게 이해할 수 있습니다. 앞서 CBOW에서는 주변 단어를 통해 중심 단어를 예측했다면, Skip-gram은 중심 단어에서 주변 단어를 예측하려고 합니다.\n",
    "\n",
    "앞서 언급한 동일한 예문에 대해서 뉴럴 네트워크를 도식화해보면 위와 같습니다. 이제 중심 단어에 대해서 주변 단어를 예측하기 때문에, hidden layer에서 벡터들의 평균을 구하는 과정은 없습니다.\n",
    "\n",
    "여러 논문에서 성능 비교를 진행했을 때, 전반적으로 Skip-gram이 CBOW보다 성능이 좋다고 알려져 있으며 대체적으로 요즘에 워드투벡터를 사용한다고 하면 SGNS(Skip-Gram with Negative Sampling)을 사용하는 것이 보통입니다.\n",
    "\n"
   ]
  },
  {
   "cell_type": "markdown",
   "metadata": {},
   "source": [
    "<img src=\"../images/skipgram.png\">"
   ]
  },
  {
   "cell_type": "markdown",
   "metadata": {},
   "source": [
    "### 5. Word2Vec 예시"
   ]
  },
  {
   "cell_type": "markdown",
   "metadata": {},
   "source": [
    "이번에는 영어 데이터를 다운로드 받아 직접 워드투벡터 작업을 진행해보도록 하겠습니다. 파이썬의 gensim 패키지에는 word2vec을 지원하고 있어, gensim 패키지를 이용하면 손쉽게 단어를 임베딩 벡터로 변환시킬 수 있습니다.\n",
    "\n"
   ]
  },
  {
   "cell_type": "code",
   "execution_count": 2,
   "metadata": {},
   "outputs": [
    {
     "name": "stdout",
     "output_type": "stream",
     "text": [
      "[['here', 'are', 'two', 'reasons', 'companies', 'fail', 'they', 'only', 'do', 'more', 'of', 'the', 'same', 'or', 'they', 'only', 'do', 'what', 's', 'new'], ['to', 'me', 'the', 'real', 'real', 'solution', 'to', 'quality', 'growth', 'is', 'figuring', 'out', 'the', 'balance', 'between', 'two', 'activities', 'exploration', 'and', 'exploitation'], ['both', 'are', 'necessary', 'but', 'it', 'can', 'be', 'too', 'much', 'of', 'a', 'good', 'thing'], ['consider', 'facit'], ['i', 'm', 'actually', 'old', 'enough', 'to', 'remember', 'them'], ['facit', 'was', 'a', 'fantastic', 'company'], ['they', 'were', 'born', 'deep', 'in', 'the', 'swedish', 'forest', 'and', 'they', 'made', 'the', 'best', 'mechanical', 'calculators', 'in', 'the', 'world'], ['everybody', 'used', 'them'], ['and', 'what', 'did', 'facit', 'do', 'when', 'the', 'electronic', 'calculator', 'came', 'along'], ['they', 'continued', 'doing', 'exactly', 'the', 'same']]\n"
     ]
    }
   ],
   "source": [
    "import re\n",
    "from lxml import etree\n",
    "import nltk\n",
    "from nltk.tokenize import word_tokenize, sent_tokenize\n",
    "\n",
    "targetXML=open('./ted_en-20160408.xml', 'r', encoding='UTF8')\n",
    "target_text = etree.parse(targetXML)\n",
    "parse_text = '\\n'.join(target_text.xpath('//content/text()'))\n",
    "# xml 파일로부터 <content>와 </content> 사이의 내용만 가져옵니다.\n",
    "\n",
    "content_text = re.sub(r'\\([^)]*\\)', '', parse_text)\n",
    "# 정규 표현식의 sub 모듈을 통해 content 중간에 등장하는 (Audio), (Laughter) 등의 배경음 부분을 제거합니다.\n",
    "# 해당 코드는 괄호로 구성된 내용을 제거하는 코드입니다.\n",
    "\n",
    "sent_text=sent_tokenize(content_text)\n",
    "# 입력 코퍼스에 대해서 nltk를 이용하여 문장 토큰화를 수행합니다.\n",
    "\n",
    "normalized_text = []\n",
    "for string in sent_text:\n",
    "    tokens = re.sub(r\"[^a-z0-9]+\", \" \", string.lower())\n",
    "    normalized_text.append(tokens)\n",
    "# 각 문장에 대해서 구두점을 제거하고, 대문자를 소문자로 변환합니다.\n",
    "\n",
    "result=[]\n",
    "result=[word_tokenize(sentence) for sentence in normalized_text]\n",
    "# 각 문장에 대해서 nltk를 이용하여 단어 토큰화를 수행합니다.\n",
    "\n",
    "print(result[:10])\n",
    "# 문장 10개만 출력"
   ]
  },
  {
   "cell_type": "code",
   "execution_count": 3,
   "metadata": {},
   "outputs": [],
   "source": [
    "from gensim.models import Word2Vec\n",
    "model = Word2Vec(sentences=result, size=100, window=5, \n",
    "                 min_count=5, workers=4, sg=0)"
   ]
  },
  {
   "cell_type": "code",
   "execution_count": 4,
   "metadata": {},
   "outputs": [
    {
     "name": "stdout",
     "output_type": "stream",
     "text": [
      "[('woman', 0.848731517791748), ('guy', 0.8328075408935547), ('lady', 0.7780727744102478), ('boy', 0.77248615026474), ('girl', 0.7534469366073608), ('gentleman', 0.735464334487915), ('kid', 0.6959241032600403), ('soldier', 0.6897628903388977), ('dancer', 0.6681586503982544), ('friend', 0.6587488055229187)]\n"
     ]
    }
   ],
   "source": [
    "a=model.wv.most_similar(\"man\")\n",
    "print(a)"
   ]
  },
  {
   "cell_type": "markdown",
   "metadata": {},
   "source": [
    "man과 유사한 단어로 woman, guy, boy, lady, girl, gentleman, soldier, kid, friend를 출력하는 것을 볼 수 있습니다. 이제 워드투벡터를 통해 단어의 유사도를 계산할 수 있게 되었습니다."
   ]
  },
  {
   "cell_type": "markdown",
   "metadata": {},
   "source": [
    "# 2. FastText"
   ]
  },
  {
   "cell_type": "markdown",
   "metadata": {},
   "source": [
    "단어를 벡터로 만드는 또 다른 방법으로는 페이스북에서 개발한 패스트텍스트(FastText)가 있습니다. 워드투벡터 이후에 나온 것이기 때문에, 메커니즘 자체는 워드투벡터의 확장이라고 볼 수 있습니다. 워드투벡터와 패스트텍스트와의 가장 큰 차이점이라면 워드투벡터는 단어를 쪼개질 수 없는 단위로 생각한다면, 패스트텍스트는 하나의 단어 안에도 여러 단어들이 존재하는 것으로 간주합니다. 즉 내부 단어(subword)를 고려하여 학습한다는 것입니다."
   ]
  },
  {
   "cell_type": "markdown",
   "metadata": {},
   "source": [
    "### 1. 모르는 단어에 대해서 대응이 가능하다\n",
    "\n",
    "패스트텍스트에서 각 단어는 글자들의 n-gram으로 나타냅니다. n을 몇으로 결정하는지에 따라서 단어들이 얼마나 분리되는지 결정됩니다. 예를 들어서 n을 3으로 잡은 트라이그램(tri-gram)의 경우, apple은 app, ppl, ple로 분리될 수 있습니다.\n",
    "\n",
    "뉴럴 네트워크를 학습한 후에는, 데이터 셋의 모든 단어의 각 n-gram에 대해서 단어 임베딩이 수행됩니다. 이렇게 되면 장점은 희귀한 단어, 즉, 데이터 셋에 존재하지 않는 단어에 대해서도 단어의 유사도를 계산할 수 있다는 점입니다.\n",
    "\n",
    "\n",
    "\n",
    "### 2. 실습으로 비교하는 워드투벡터 Vs. 패스트텍스트\n",
    "\n",
    "워드투벡터와 패스트텍스트의 차이를 비교해보도록 하겠습니다. 단, 사용하는 코드는 워드투벡터를 실습하기위해 사용했던 이전 챕터의 동일한 코드를 사용합니다. 우선, 이전 챕터의 전처리 코드와 워드투벡터 학습 코드를 그대로 수행했음을 가정하겠습니다.\n",
    "\n",
    "입력 단어에 대해서 유사한 단어를 찾아내는 코드에 이번에는 electrofishing이라는 단어를 넣어보겠습니다.\n",
    "\n"
   ]
  },
  {
   "cell_type": "code",
   "execution_count": 6,
   "metadata": {},
   "outputs": [
    {
     "ename": "KeyError",
     "evalue": "\"word 'electrofishing' not in vocabulary\"",
     "output_type": "error",
     "traceback": [
      "\u001b[0;31m---------------------------------------------------------------------------\u001b[0m",
      "\u001b[0;31mKeyError\u001b[0m                                  Traceback (most recent call last)",
      "\u001b[0;32m<ipython-input-6-c02c7829a438>\u001b[0m in \u001b[0;36m<module>\u001b[0;34m()\u001b[0m\n\u001b[0;32m----> 1\u001b[0;31m \u001b[0ma\u001b[0m\u001b[0;34m=\u001b[0m\u001b[0mmodel\u001b[0m\u001b[0;34m.\u001b[0m\u001b[0mwv\u001b[0m\u001b[0;34m.\u001b[0m\u001b[0mmost_similar\u001b[0m\u001b[0;34m(\u001b[0m\u001b[0;34m\"electrofishing\"\u001b[0m\u001b[0;34m)\u001b[0m\u001b[0;34m\u001b[0m\u001b[0;34m\u001b[0m\u001b[0m\n\u001b[0m",
      "\u001b[0;32m/anaconda3/envs/base-workspace/lib/python3.6/site-packages/gensim/models/keyedvectors.py\u001b[0m in \u001b[0;36mmost_similar\u001b[0;34m(self, positive, negative, topn, restrict_vocab, indexer)\u001b[0m\n\u001b[1;32m    363\u001b[0m                 \u001b[0mmean\u001b[0m\u001b[0;34m.\u001b[0m\u001b[0mappend\u001b[0m\u001b[0;34m(\u001b[0m\u001b[0mweight\u001b[0m \u001b[0;34m*\u001b[0m \u001b[0mword\u001b[0m\u001b[0;34m)\u001b[0m\u001b[0;34m\u001b[0m\u001b[0;34m\u001b[0m\u001b[0m\n\u001b[1;32m    364\u001b[0m             \u001b[0;32melse\u001b[0m\u001b[0;34m:\u001b[0m\u001b[0;34m\u001b[0m\u001b[0;34m\u001b[0m\u001b[0m\n\u001b[0;32m--> 365\u001b[0;31m                 \u001b[0mmean\u001b[0m\u001b[0;34m.\u001b[0m\u001b[0mappend\u001b[0m\u001b[0;34m(\u001b[0m\u001b[0mweight\u001b[0m \u001b[0;34m*\u001b[0m \u001b[0mself\u001b[0m\u001b[0;34m.\u001b[0m\u001b[0mword_vec\u001b[0m\u001b[0;34m(\u001b[0m\u001b[0mword\u001b[0m\u001b[0;34m,\u001b[0m \u001b[0muse_norm\u001b[0m\u001b[0;34m=\u001b[0m\u001b[0;32mTrue\u001b[0m\u001b[0;34m)\u001b[0m\u001b[0;34m)\u001b[0m\u001b[0;34m\u001b[0m\u001b[0;34m\u001b[0m\u001b[0m\n\u001b[0m\u001b[1;32m    366\u001b[0m                 \u001b[0;32mif\u001b[0m \u001b[0mword\u001b[0m \u001b[0;32min\u001b[0m \u001b[0mself\u001b[0m\u001b[0;34m.\u001b[0m\u001b[0mvocab\u001b[0m\u001b[0;34m:\u001b[0m\u001b[0;34m\u001b[0m\u001b[0;34m\u001b[0m\u001b[0m\n\u001b[1;32m    367\u001b[0m                     \u001b[0mall_words\u001b[0m\u001b[0;34m.\u001b[0m\u001b[0madd\u001b[0m\u001b[0;34m(\u001b[0m\u001b[0mself\u001b[0m\u001b[0;34m.\u001b[0m\u001b[0mvocab\u001b[0m\u001b[0;34m[\u001b[0m\u001b[0mword\u001b[0m\u001b[0;34m]\u001b[0m\u001b[0;34m.\u001b[0m\u001b[0mindex\u001b[0m\u001b[0;34m)\u001b[0m\u001b[0;34m\u001b[0m\u001b[0;34m\u001b[0m\u001b[0m\n",
      "\u001b[0;32m/anaconda3/envs/base-workspace/lib/python3.6/site-packages/gensim/models/keyedvectors.py\u001b[0m in \u001b[0;36mword_vec\u001b[0;34m(self, word, use_norm)\u001b[0m\n\u001b[1;32m    272\u001b[0m             \u001b[0;32mreturn\u001b[0m \u001b[0mresult\u001b[0m\u001b[0;34m\u001b[0m\u001b[0;34m\u001b[0m\u001b[0m\n\u001b[1;32m    273\u001b[0m         \u001b[0;32melse\u001b[0m\u001b[0;34m:\u001b[0m\u001b[0;34m\u001b[0m\u001b[0;34m\u001b[0m\u001b[0m\n\u001b[0;32m--> 274\u001b[0;31m             \u001b[0;32mraise\u001b[0m \u001b[0mKeyError\u001b[0m\u001b[0;34m(\u001b[0m\u001b[0;34m\"word '%s' not in vocabulary\"\u001b[0m \u001b[0;34m%\u001b[0m \u001b[0mword\u001b[0m\u001b[0;34m)\u001b[0m\u001b[0;34m\u001b[0m\u001b[0;34m\u001b[0m\u001b[0m\n\u001b[0m\u001b[1;32m    275\u001b[0m \u001b[0;34m\u001b[0m\u001b[0m\n\u001b[1;32m    276\u001b[0m     \u001b[0;32mdef\u001b[0m \u001b[0mget_vector\u001b[0m\u001b[0;34m(\u001b[0m\u001b[0mself\u001b[0m\u001b[0;34m,\u001b[0m \u001b[0mword\u001b[0m\u001b[0;34m)\u001b[0m\u001b[0;34m:\u001b[0m\u001b[0;34m\u001b[0m\u001b[0;34m\u001b[0m\u001b[0m\n",
      "\u001b[0;31mKeyError\u001b[0m: \"word 'electrofishing' not in vocabulary\""
     ]
    }
   ],
   "source": [
    "a=model.wv.most_similar(\"electrofishing\")"
   ]
  },
  {
   "cell_type": "markdown",
   "metadata": {},
   "source": [
    "에러 메시지는 단어 집합(vocabulary)에 electrofishing이 존재하지 않는다고 합니다. 이처럼 워드투벡터는 학습 데이터에 존재하지 않는 단어에 대해서는 임베딩 벡터가 존재하지 않기 때문에, 단어의 유사도를 계산하는 것이 불가능합니다.\n",
    "\n"
   ]
  },
  {
   "cell_type": "code",
   "execution_count": 7,
   "metadata": {},
   "outputs": [],
   "source": [
    "from gensim.models import FastText\n",
    "model = FastText(result, size=100, window=5, min_count=5, workers=4, sg=1)"
   ]
  },
  {
   "cell_type": "code",
   "execution_count": 8,
   "metadata": {},
   "outputs": [],
   "source": [
    "a=model.wv.most_similar(\"electrofishing\")"
   ]
  },
  {
   "cell_type": "code",
   "execution_count": 9,
   "metadata": {},
   "outputs": [
    {
     "data": {
      "text/plain": [
       "[('electrolux', 0.8085340261459351),\n",
       " ('electro', 0.7941123247146606),\n",
       " ('electrolyte', 0.7891121506690979),\n",
       " ('electric', 0.7875779271125793),\n",
       " ('electrogram', 0.7667232751846313),\n",
       " ('electrochemical', 0.7662071585655212),\n",
       " ('electrons', 0.7536858320236206),\n",
       " ('electroencephalogram', 0.7526922225952148),\n",
       " ('electromagnet', 0.7503842711448669),\n",
       " ('electroshock', 0.7500085234642029)]"
      ]
     },
     "execution_count": 9,
     "metadata": {},
     "output_type": "execute_result"
    }
   ],
   "source": [
    "a"
   ]
  },
  {
   "cell_type": "markdown",
   "metadata": {},
   "source": [
    "워드투벡터는 학습하지 않은 단어에 대해서 유사한 단어를 찾아내지 못 했지만, 패스트텍스트는 유사한 단어를 계산해서 출력하고 있음을 볼 수 있습니다.\n",
    "\n",
    "패스트텍스트는 노이즈가 많은 코퍼스에서 강점을 가진 것으로 알려져있습니다. 하지만 하나의 단어도, 여러 n-gram으로 분리하여 모두 학습하기 때문에 학습해야하는 양이 상대적으로 많아집니다."
   ]
  }
 ],
 "metadata": {
  "kernelspec": {
   "display_name": "Python 3",
   "language": "python",
   "name": "python3"
  },
  "language_info": {
   "codemirror_mode": {
    "name": "ipython",
    "version": 3
   },
   "file_extension": ".py",
   "mimetype": "text/x-python",
   "name": "python",
   "nbconvert_exporter": "python",
   "pygments_lexer": "ipython3",
   "version": "3.6.7"
  }
 },
 "nbformat": 4,
 "nbformat_minor": 2
}
