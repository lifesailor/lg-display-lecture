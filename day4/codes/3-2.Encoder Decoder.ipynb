{
 "cells": [
  {
   "cell_type": "markdown",
   "metadata": {},
   "source": [
    "번역기에서 사용되는 모델은 RNN을 활용한 시퀀스투시퀀스(sequence to sequence)라는 모델입니다. 이름이 길기 때문에 보통 글로 작성할 때는 seq2seq라고 기재합니다. seq2seq는 문장을 입력받아 문장을 출력하는 모델입니다. 실제로 시중에 나온 많은 번역기들이 seq2seq를 모델로 사용합니다. 문장을 입력받으면, 문장을 출력할 수 있기 때문입니다. seq2seq 모델은 챗봇에도 사용되지만, 여기서는 seq2seq에 대해 배운 후에 번역기를 만들어보도록 하겠습니다.\n",
    "\n",
    "seq2seq는 입력을 위한 RNN인 인코더와 출력을 위한 RNN인 디코더로 구성됩니다. 예를 들어 기계 번역의 경우에는 인코더에 번역하고자 하는 문장을, 디코더에는 번역된 문장을 입력할 수 있습니다. 입력 문장이 인코더에 입력되면, 디코더는 출력 문장을 출력합니다.\n",
    "\n"
   ]
  },
  {
   "cell_type": "markdown",
   "metadata": {},
   "source": [
    "## 1. Encoder & Decoder"
   ]
  },
  {
   "cell_type": "markdown",
   "metadata": {},
   "source": [
    "Sentence Representation하는 방법으로는 앞서 총 5가지를 언급했습니다. 여기서도 그 5가지 중 한 가지를 선택해서 사용하면됩니다. 다만, 한 가지 Text Classification을 할 때와 다른 점은,\n",
    "굳이 하나의 Fixed size의 vector로 만들 필요가 없다는 점입니다. Text Classification을 할 때를 상기해보면, Sentence Representation을 적용해서, 각 토큰 별로 Representation이 나온 후에, averaging을 해서 vector 하나만 남겼었습니다. 하지만 MT에서는 굳이 그렇게 할 필요가 없습니다.\n",
    "\n"
   ]
  },
  {
   "cell_type": "markdown",
   "metadata": {},
   "source": [
    "1. 인코더(Encoder): Source\n",
    "    \n",
    "소스 문장의 토큰들을 문장을 표현하는 벡터들의 집합으로 인코딩합니다.  벡터의 집합을 크기가 고정된 하나의 벡터로 만들 필요는 없습니다.\n",
    "이유는 아래와 같습니다. 하나의 벡터로 합치게 되면 정보 손실이 생깁니다. 문장의 길이가 길어질수록 훈련하기도 힘들고 모델의 크기를 키워야하기 때문입니다.\n",
    "\n",
    "\n",
    "2. 디코더(Decoder): Target\n",
    "\n",
    "자기회귀 언어 모델링(Autoregressive Language Modeling)을 활용하고 문맥(Context)를 무한대로 보게 됩니다. Recurrent Networks, Self-attention, (dilated) Convolutional network 등을 사용하게 됩니다.\n",
    "\n",
    "문장의 의미 뿐만 아니라 문법적인 구조도 함께 봐야하기 때문에 인과관계 구조(Causal structure)를 따라야 합니다. 조건부 언어 모델링(Conditional language modeling) 이전에 출력된 단어와 인코딩된 소스 문장, 두 가지를 동시에 보고 다음에 어떤 단어나 나올지 결정하게 됩니다.\n"
   ]
  },
  {
   "cell_type": "markdown",
   "metadata": {},
   "source": [
    "## 2. RNN Machine Translation"
   ]
  },
  {
   "cell_type": "markdown",
   "metadata": {},
   "source": [
    "<img src=\"../images/rnnmt.png\">"
   ]
  },
  {
   "cell_type": "code",
   "execution_count": null,
   "metadata": {},
   "outputs": [],
   "source": []
  }
 ],
 "metadata": {
  "kernelspec": {
   "display_name": "Python 3",
   "language": "python",
   "name": "python3"
  },
  "language_info": {
   "codemirror_mode": {
    "name": "ipython",
    "version": 3
   },
   "file_extension": ".py",
   "mimetype": "text/x-python",
   "name": "python",
   "nbconvert_exporter": "python",
   "pygments_lexer": "ipython3",
   "version": "3.6.7"
  }
 },
 "nbformat": 4,
 "nbformat_minor": 2
}
