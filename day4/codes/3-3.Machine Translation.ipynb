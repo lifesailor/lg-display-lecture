{
 "cells": [
  {
   "cell_type": "markdown",
   "metadata": {},
   "source": [
    "앞서 배운 Language Model은 Scoring(점수 부여)하는 것에 사용을 하지만,\n",
    "Scoring을 한다는 것 자체가 Sentence generation을 할 수 있다는 얘기로도 볼 수 있습니다.\n",
    "input이 주어졌을때 우리가 원하는 Sentence를 만들 수 있는 모델을 만드는 근간이 되는 것입니다.\n",
    "\n",
    "여기서 부터는 seq2seq 모델 또는 Neural Machine Translation이라는 모델에 대해서 봅니다.\n",
    "MT라는 것은 문장이 주어졌을 때, 원하는 문장으로 자동으로 바꿔줄 수 있느냐의 문제입니다.\n",
    "(이하 이 글 부터는 Machine Translation을 줄여서 MT로 표현하기도 할 것입니다.)\n",
    "\n",
    "MT는 neural net이 도입되면서 기존의 좁은 의미의 MT에서 어떤 input이 주어졌을 때,\n",
    "그 input을 전혀 다른 structure가 있는 sequence로 바꿔줄 수 있느냐로 정의가 generalization이 되었습니다."
   ]
  },
  {
   "cell_type": "markdown",
   "metadata": {},
   "source": [
    "## 1. Rule-based 기계번역(Rule-based Machine Translation)\n"
   ]
  },
  {
   "cell_type": "markdown",
   "metadata": {},
   "source": [
    "2차 세계 대전, 미국의 국방부나 국방 연구를 하는 곳에서 러시아어를 Translate를 해야한다는 니즈가 생겼습니다. 이 때, 자동으로 Translate하는 시스템을 원했습니다. 그때부터 한 70년대, 80년대 중반까지만해도 MT라는 것은 실제 사람이 어떻게 translate를 할까에서 생각을 시작해서 규칙 기반(Rule base)으로 초점을 맞추었습니다.\n",
    "\n",
    "1. Morphological analysis\n",
    "문장을 보면 문장만을 보는 것이 아니라 처음에는 단어 하나, 하나의 의미에 대해서 분석한다.\n",
    "\n",
    "2. Syntatic analysis\n",
    "그 단어 하나, 하나가 어떻게 연결이 되어있는지, 문법적으로 연결이 되어있는지에 대해서 분석한다.\n",
    "\n",
    "3. Semantic analysis\n",
    "그 연결이 된 구조 상에서 어떤 의미를 갖는지 분석한다.\n",
    "\n",
    "4. Semantic composition\n",
    "그 의미들이 어떻게 합쳐져서 큰 문장 단위의 의미를 갖는지 분석한다.\n",
    "\n",
    "5. Interlingua\n",
    "실제 우리가 쓰는 언어와는 독립이 되어 있는,\n",
    "언어의 기반이 되는 의미를 갖고있는 것이 결과물로 나온다.\n",
    "\n",
    "6. Semantic decomposition\n",
    "거꾸로 우리가 번역을 하고 싶은 target language쪽으로 Interlingua에서 의미들을 분리한다.\n",
    "\n",
    "7. Semantic generation\n",
    "분리된 것으로부터 의미를 분석한다.\n",
    "\n",
    "8. Syntatic generation\n",
    "분리된 것들을 구조적으로, 문법에 맞춰서 reordering을 진행한다.\n",
    "\n",
    "9. Morphological generation\n",
    "reordering이 끝나면 각 토큰마다 의미는 있지만, 실제 어떤 토큰인지는 모르는 상태이므로 단어들을 mapping해준다.\n",
    "\n",
    "이러한 규칙 기반의 시스템의 구조는 설계가 된 상태입니다. 그리고 각 노드마다 해당하는 알고리즘과, 노드 간 사이에 어떤 식으로 변환해야하는지를 상세 설계합니다. 이렇게해서 수백 개 정도의 모듈을 만들어서 잘 붙이면 translation이 될 것이라고 추정하고 연구가 이루어졌습니다. 안타깝게도, 그렇게 하는 것이 거의 불가능하다는 것이 뒤늦게 밝혀졌습니다.\n",
    "\n"
   ]
  },
  {
   "cell_type": "markdown",
   "metadata": {},
   "source": [
    "<img src='../images/rule.png'>"
   ]
  },
  {
   "cell_type": "markdown",
   "metadata": {},
   "source": [
    "## 2. 통계 기반 기계번역"
   ]
  },
  {
   "cell_type": "markdown",
   "metadata": {},
   "source": [
    "1980년대 IBM에서 MT와 Speech Recognition을 시도했습니다. 국방쪽에서도 민간에서도 수요가 있었고, 그 수요를 맞추고자 팀을 이끈 것이 Fred Jelinek(프레데리 제리넥)입니다.\n",
    "\n",
    "\n",
    "프레데리 제리넥은 정보학을 공부하였으나, 언어학을 공부한 사람은 아닙니다. 프레데리 제리넥은 기계 번역을 기존의 규칙 기반과 같은 언어학 관점에서 해결할 문제가 아니라고 판단했습니다.\n",
    "그래서 통계와 정보학에 근거하여, 기계 번역을 접근하는 것으로 방향을 바꿨습니다.\n",
    "\n",
    "\n",
    "프레데리 제리넥은 이와 같은 유명한 말을 남겼습니다.\n",
    "\"매번 내가 언어학자를 해고할 때마다, 음성인식의 성능이 올라갔다.\"\n",
    "(물론, 규칙 기반의 기계 번역은 여전히 어느정도 사용되고 있습니다.)\n",
    "\n",
    "\n",
    "통계 기반 기계번역은 머신 러닝을 사용하는 것이고, 이러한 접근 방법으로부터 IBM Model(Bob Mercer), Phrase-Based Model(Philipp Koehn), syntax based machine translation(Kevin Knight) 등이 탄생하게 됩니다. 그리고 이 시스템들은 2000년대 중반부터 최근까지 Large-Scale의 MT의 근간이 되었습니다.\n",
    "\n"
   ]
  },
  {
   "cell_type": "markdown",
   "metadata": {},
   "source": [
    "## 3. 신경망 기계 번역"
   ]
  },
  {
   "cell_type": "markdown",
   "metadata": {},
   "source": [
    "그런데 IBM 모델이 나오는 동시대에 Neural MT를 하자는 사람들이 이미 있었습니다. 1987년에 IEEE에서 열었던 첫번째 Neural Net Conference에서 밥 알렌이라는 사람이 논문을 썼습니다.\n",
    "해당 논문에서는 3310개의 영어랑 스페인어 pair를 이용해서 training을 시켰으며, 33개로 test했습니다. 이 당시에는 Neural net도 작고, training data도 많지않다보니 성능도 좋지 않았습니다. 이에 이 논문은 잊혀집니다.\n",
    "\n",
    "5년 뒤, Connection Science라는 저널에서 크리스만이라는 사람이 아주 비슷한 논문을 proposal합니다. 여기서도 비슷하게 영어랑 스페인어 216개 pair에 대해서 실험을 진행했습니다.\n",
    "어느정도 성능은 보였지만, 이것이 large-scale한 MT 시스템에 대해서도 작동이 될 것인지에 대해서는 검증되지 않았고 다시 한 번 이 논문은 잊혀집니다.\n",
    "\n"
   ]
  }
 ],
 "metadata": {
  "kernelspec": {
   "display_name": "Python 3",
   "language": "python",
   "name": "python3"
  },
  "language_info": {
   "codemirror_mode": {
    "name": "ipython",
    "version": 3
   },
   "file_extension": ".py",
   "mimetype": "text/x-python",
   "name": "python",
   "nbconvert_exporter": "python",
   "pygments_lexer": "ipython3",
   "version": "3.6.7"
  }
 },
 "nbformat": 4,
 "nbformat_minor": 2
}
