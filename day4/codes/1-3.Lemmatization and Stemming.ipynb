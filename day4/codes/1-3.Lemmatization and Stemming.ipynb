{
 "cells": [
  {
   "cell_type": "markdown",
   "metadata": {},
   "source": [
    "# 3. 어간 추출(Stemming)과 표제어 추출(Lemmatization)"
   ]
  },
  {
   "cell_type": "markdown",
   "metadata": {},
   "source": [
    "이번 장에서는 정제 기법 중 코퍼스에 있는 단어의 갯수를 줄일 수 있는 기법인 Lemmatization과 Stemming의 개념에 대해서 알아봅니다. 또한 이 둘의 결과가 어떻게 다른지 이해합니다.\n",
    "\n",
    "이 두 작업이 갖고있는 의미는 눈으로 봤을 때는 서로 다른 단어들이지만, 하나의 단어로 일반화시킬 수 있다면 하나의 단어로 일반화시켜서 문서 내의 단어 수를 줄여보자는 것입니다. Normalization의 지향점은 언제나 갖고있는 코퍼스를 정제하여 복잡성을 줄이는 일임을 기억합니다."
   ]
  },
  {
   "cell_type": "markdown",
   "metadata": {},
   "source": [
    "## 1. 표제어 추출(Lemmatization)"
   ]
  },
  {
   "cell_type": "markdown",
   "metadata": {},
   "source": [
    "표제어 추출을 하는 가장 섬세한 방법은 단어의 형태학적 파싱을 먼저 진행하는 것입니다. 형태소란 '의미를 가진 가장 작은 단위'를 뜻합니다. 그리고 형태학(Morphology)이란, 형태소로부터 단어들을 만들어가는 학문을 뜻합니다.\n",
    "\n",
    "표제어 추출은 단어들이 서로 다른 모습을 갖고있더라도, 그 뿌리 단어를 찾아가서 단어의 갯수를 줄일 수 있는지를 판단합니다. 예를 들어서 am, are, is는 서로 다른 스펠링을 갖고있지만 그 뿌리 단어는 be라고 볼 수 있습니다. 이 때, 이 단어들의 Lemma는 be라고 할 수있습니다.\n",
    "\n",
    "표제어 추출을 하는 가장 섬세한 방법은 단어의 형태학적 파싱을 먼저 진행하는 것입니다. 형태소란 '의미를 가진 가장 작은 단위'를 뜻합니다. 그리고 형태학(Morphology)이란, 형태소로부터 단어들을 만들어가는 학문을 뜻합니다.\n",
    "\n",
    "형태소는 두 가지 종류가 있습니다. 각각 stem(어간)과 affix(접사)입니다.\n",
    "\n",
    "1) stem(어간)\n",
    ": 단어의 의미를 담고있는 단어의 핵심 부분.\n",
    "\n",
    "2) affix(접사)\n",
    ": 단어에 추가적인 의미를 주는 부분.\n",
    "\n",
    "형태학적 파싱은 이 두 가지 구성 요소를 분리하는 작업을 말합니다. 가령, cats라는 단어에 대해 형태학적 파싱을 수행한다면, 형태학적 파싱은 결과로 cat(어간)와 -s(접사)를 분리합니다. 물론, 꼭 두 가지로 분리되지 않는 경우도 있습니다. 가령, 단어 fox는 형태학적 파싱을 한다고하더라도 더 이상 분리할 수 없습니다. fox는 독립적인 형태소이기 때문입니다. 이와 유사하게, cat 또한 더 이상 분리되지 않습니다."
   ]
  },
  {
   "cell_type": "code",
   "execution_count": 1,
   "metadata": {},
   "outputs": [
    {
     "data": {
      "text/plain": [
       "['policy',\n",
       " 'doing',\n",
       " 'organization',\n",
       " 'have',\n",
       " 'going',\n",
       " 'love',\n",
       " 'life',\n",
       " 'fly',\n",
       " 'dy',\n",
       " 'watched',\n",
       " 'ha',\n",
       " 'starting']"
      ]
     },
     "execution_count": 1,
     "metadata": {},
     "output_type": "execute_result"
    }
   ],
   "source": [
    "import nltk\n",
    "from nltk.stem import WordNetLemmatizer\n",
    "\n",
    "n = WordNetLemmatizer()\n",
    "words = ['policy', 'doing', 'organization', 'have', 'going', 'love', 'lives', 'fly', 'dies', 'watched', 'has', 'starting']\n",
    "[n.lemmatize(w) for w in words]"
   ]
  },
  {
   "cell_type": "markdown",
   "metadata": {},
   "source": [
    "WordNetLemmatizer는 입력으로 단어의 품사를 지정해줄 수 있습니다. 즉, dies와 watched, has가 문장에서 동사로 쓰였다는 것을 알려준다면 표제어 추출기는 품사의 정보를 보존하면서 정확한 Lemma를 출력하게 될 것입니다."
   ]
  },
  {
   "cell_type": "code",
   "execution_count": 2,
   "metadata": {},
   "outputs": [
    {
     "data": {
      "text/plain": [
       "'die'"
      ]
     },
     "execution_count": 2,
     "metadata": {},
     "output_type": "execute_result"
    }
   ],
   "source": [
    "n.lemmatize('dies', 'v')"
   ]
  },
  {
   "cell_type": "code",
   "execution_count": 3,
   "metadata": {},
   "outputs": [
    {
     "data": {
      "text/plain": [
       "'watch'"
      ]
     },
     "execution_count": 3,
     "metadata": {},
     "output_type": "execute_result"
    }
   ],
   "source": [
    "n.lemmatize('watched', 'v')"
   ]
  },
  {
   "cell_type": "code",
   "execution_count": 4,
   "metadata": {},
   "outputs": [
    {
     "data": {
      "text/plain": [
       "'have'"
      ]
     },
     "execution_count": 4,
     "metadata": {},
     "output_type": "execute_result"
    }
   ],
   "source": [
    "n.lemmatize('has', 'v')"
   ]
  },
  {
   "cell_type": "markdown",
   "metadata": {},
   "source": [
    "## 2. 어간 추출(Stemming)"
   ]
  },
  {
   "cell_type": "markdown",
   "metadata": {},
   "source": [
    "Stem(어간)을 추출하는 작업을 Stemming이라고 합니다. 어간 추출은 형태학적 분석을 단순화한 버전이라고 볼 수도 있고, 정해진 규칙만 보고 단어의 어미를 자르는 어림짐작의 작업이라고 볼 수도 있습니다. 다시 말해, 이 작업은 섬세한 작업이 아니기 때문에 어간 추출 후에 나오는 결과 단어는 사전에 존재하지 않는 단어일 수도 있습니다.\n",
    "\n",
    "설명이 어렵게 다가올지라도, 예제를 보면 쉽게 이해할 수 있습니다. 어간 추출 알고리즘 중 하나인 포터 알고리즘(Porter Algorithm)에 아래의 Text를 입력으로 넣는다고 해봅시다."
   ]
  },
  {
   "cell_type": "code",
   "execution_count": 5,
   "metadata": {},
   "outputs": [
    {
     "name": "stdout",
     "output_type": "stream",
     "text": [
      "['This', 'was', 'not', 'the', 'map', 'we', 'found', 'in', 'Billy', 'Bones', \"'s\", 'chest', ',', 'but', 'an', 'accurate', 'copy', ',', 'complete', 'in', 'all', 'things', '--', 'names', 'and', 'heights', 'and', 'soundings', '--', 'with', 'the', 'single', 'exception', 'of', 'the', 'red', 'crosses', 'and', 'the', 'written', 'notes', '.']\n"
     ]
    }
   ],
   "source": [
    "import nltk\n",
    "from nltk.stem import PorterStemmer\n",
    "from nltk.tokenize import word_tokenize\n",
    "s = PorterStemmer()\n",
    "text=\"This was not the map we found in Billy Bones's chest, but an accurate copy, complete in all things--names and heights and soundings--with the single exception of the red crosses and the written notes.\"\n",
    "words=word_tokenize(text)\n",
    "print(words)"
   ]
  },
  {
   "cell_type": "markdown",
   "metadata": {},
   "source": [
    "위를 보면, 알고리즘의 결과로서 나온 text는 사전에 없는 단어들도 포함되어 있습니다. 애초 어간 추출은 단순히 규칙에 기반하여 이루어지기 때문입니다."
   ]
  },
  {
   "cell_type": "code",
   "execution_count": 6,
   "metadata": {
    "scrolled": true
   },
   "outputs": [
    {
     "data": {
      "text/plain": [
       "['thi',\n",
       " 'wa',\n",
       " 'not',\n",
       " 'the',\n",
       " 'map',\n",
       " 'we',\n",
       " 'found',\n",
       " 'in',\n",
       " 'billi',\n",
       " 'bone',\n",
       " \"'s\",\n",
       " 'chest',\n",
       " ',',\n",
       " 'but',\n",
       " 'an',\n",
       " 'accur',\n",
       " 'copi',\n",
       " ',',\n",
       " 'complet',\n",
       " 'in',\n",
       " 'all',\n",
       " 'thing',\n",
       " '--',\n",
       " 'name',\n",
       " 'and',\n",
       " 'height',\n",
       " 'and',\n",
       " 'sound',\n",
       " '--',\n",
       " 'with',\n",
       " 'the',\n",
       " 'singl',\n",
       " 'except',\n",
       " 'of',\n",
       " 'the',\n",
       " 'red',\n",
       " 'cross',\n",
       " 'and',\n",
       " 'the',\n",
       " 'written',\n",
       " 'note',\n",
       " '.']"
      ]
     },
     "execution_count": 6,
     "metadata": {},
     "output_type": "execute_result"
    }
   ],
   "source": [
    "[s.stem(w) for w in words]"
   ]
  },
  {
   "cell_type": "markdown",
   "metadata": {},
   "source": [
    "**Stemming**\n",
    "\n",
    "- am → am\n",
    "- the going → the go\n",
    "- having → hav\n",
    "\n",
    "**Lemmatization**\n",
    "\n",
    "- am → be\n",
    "- the going → the going\n",
    "- having → have"
   ]
  }
 ],
 "metadata": {
  "kernelspec": {
   "display_name": "Python 3",
   "language": "python",
   "name": "python3"
  },
  "language_info": {
   "codemirror_mode": {
    "name": "ipython",
    "version": 3
   },
   "file_extension": ".py",
   "mimetype": "text/x-python",
   "name": "python",
   "nbconvert_exporter": "python",
   "pygments_lexer": "ipython3",
   "version": "3.6.7"
  }
 },
 "nbformat": 4,
 "nbformat_minor": 2
}
