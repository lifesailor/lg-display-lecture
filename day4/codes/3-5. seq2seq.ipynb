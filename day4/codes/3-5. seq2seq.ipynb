{
 "cells": [
  {
   "cell_type": "code",
   "execution_count": 1,
   "metadata": {},
   "outputs": [],
   "source": [
    "import os, sys"
   ]
  },
  {
   "cell_type": "code",
   "execution_count": 2,
   "metadata": {},
   "outputs": [
    {
     "name": "stderr",
     "output_type": "stream",
     "text": [
      "Using TensorFlow backend.\n"
     ]
    }
   ],
   "source": [
    "from keras.models import Model\n",
    "from keras.layers import Input, LSTM, GRU, Dense, Embedding\n",
    "from keras.preprocessing.text import Tokenizer\n",
    "from keras.preprocessing.sequence import pad_sequences\n",
    "from keras.utils import to_categorical"
   ]
  },
  {
   "cell_type": "code",
   "execution_count": 3,
   "metadata": {},
   "outputs": [],
   "source": [
    "import numpy as np\n",
    "import matplotlib.pyplot as plt"
   ]
  },
  {
   "cell_type": "code",
   "execution_count": 4,
   "metadata": {},
   "outputs": [],
   "source": [
    "# config\n",
    "BATCH_SIZE = 64\n",
    "EPOCHS = 100\n",
    "LATENT_DIM = 256\n",
    "NUM_SAMPLES = 10000\n",
    "MAX_SEQUENCE_LENGTH = 100\n",
    "MAX_NUM_WORDS = 20000\n",
    "EMBEDDING_DIM = 100"
   ]
  },
  {
   "cell_type": "markdown",
   "metadata": {},
   "source": [
    "# 1. Data"
   ]
  },
  {
   "cell_type": "code",
   "execution_count": 5,
   "metadata": {},
   "outputs": [],
   "source": [
    "# where we will store the data\n",
    "input_texts = []\n",
    "target_texts = []\n",
    "target_texts_inputs = []"
   ]
  },
  {
   "cell_type": "code",
   "execution_count": 6,
   "metadata": {},
   "outputs": [
    {
     "name": "stdout",
     "output_type": "stream",
     "text": [
      "num samples:  799\n"
     ]
    }
   ],
   "source": [
    "t = 0\n",
    "for line in open('./kor.txt', encoding='utf-8'):\n",
    "    t += 1\n",
    "    \n",
    "    # keeping limited number of samples because of saving time.\n",
    "    if t > NUM_SAMPLES:\n",
    "        break\n",
    "    \n",
    "    if '\\t' not in line:\n",
    "        continue\n",
    "    \n",
    "    # each sequence needs to be the same length.\n",
    "    input_text, translation = line.rstrip().split('\\t')\n",
    "    target_text = translation + ' <eos>'\n",
    "    target_text_input = '<sos> ' + translation\n",
    "    \n",
    "    input_texts.append(input_text)\n",
    "    target_texts.append(target_text)\n",
    "    target_texts_inputs.append(target_text_input)\n",
    "    \n",
    "print(\"num samples: \", len(input_texts))    "
   ]
  },
  {
   "cell_type": "code",
   "execution_count": 7,
   "metadata": {},
   "outputs": [
    {
     "data": {
      "text/plain": [
       "('No way!', '절대 아니야. <eos>', '<sos> 절대 아니야.')"
      ]
     },
     "execution_count": 7,
     "metadata": {},
     "output_type": "execute_result"
    }
   ],
   "source": [
    "input_texts[2], target_texts[2], target_texts_inputs[2]"
   ]
  },
  {
   "cell_type": "markdown",
   "metadata": {},
   "source": [
    "# 2. Preprocesssing"
   ]
  },
  {
   "cell_type": "code",
   "execution_count": 8,
   "metadata": {},
   "outputs": [],
   "source": [
    "# tokenize the inputs - english\n",
    "tokenizer_inputs = Tokenizer(num_words=MAX_NUM_WORDS)\n",
    "tokenizer_inputs.fit_on_texts(input_texts)\n",
    "\n",
    "# transform\n",
    "input_sequences = tokenizer_inputs.texts_to_sequences(input_texts)"
   ]
  },
  {
   "cell_type": "code",
   "execution_count": 9,
   "metadata": {},
   "outputs": [
    {
     "name": "stdout",
     "output_type": "stream",
     "text": [
      "Found 1062 unique input tokens.\n"
     ]
    }
   ],
   "source": [
    "# {word: sequence}\n",
    "word2idx_inputs = tokenizer_inputs.word_index\n",
    "print(\"Found %s unique input tokens.\" % len(word2idx_inputs))"
   ]
  },
  {
   "cell_type": "code",
   "execution_count": 10,
   "metadata": {},
   "outputs": [
    {
     "data": {
      "text/plain": [
       "19"
      ]
     },
     "execution_count": 10,
     "metadata": {},
     "output_type": "execute_result"
    }
   ],
   "source": [
    "# max_length\n",
    "max_len_input = max(len(s) for s in input_sequences)\n",
    "max_len_input"
   ]
  },
  {
   "cell_type": "code",
   "execution_count": 11,
   "metadata": {},
   "outputs": [],
   "source": [
    "# tokenize the outputs - korean\n",
    "\n",
    "# don't fitler out special characters\n",
    "# otherwise <sos> and <eos> won't appear\n",
    "tokenizer_outputs = Tokenizer(num_words=MAX_NUM_WORDS, filters='')\n",
    "tokenizer_outputs.fit_on_texts(target_texts + target_texts_inputs)\n",
    "target_sequences = tokenizer_outputs.texts_to_sequences(target_texts)\n",
    "target_sequncess_inputs = tokenizer_outputs.texts_to_sequences(target_texts_inputs)"
   ]
  },
  {
   "cell_type": "code",
   "execution_count": 12,
   "metadata": {},
   "outputs": [
    {
     "name": "stdout",
     "output_type": "stream",
     "text": [
      "Found 1826 unique output tokens.\n"
     ]
    }
   ],
   "source": [
    "word2idx_outputs = tokenizer_outputs.word_index\n",
    "print(\"Found %s unique output tokens.\" % len(word2idx_outputs))"
   ]
  },
  {
   "cell_type": "markdown",
   "metadata": {},
   "source": [
    "- index가 0부터가 아니라 1부터 주어진다."
   ]
  },
  {
   "cell_type": "code",
   "execution_count": 13,
   "metadata": {},
   "outputs": [],
   "source": [
    "# store number of output words for later\n",
    "# remeber to add 1 since indexing starts at 1\n",
    "num_words_output = len(word2idx_outputs) + 1\n",
    "\n",
    "# determine maximum length output sequence\n",
    "max_len_target = max(len(s) for s in target_sequences)"
   ]
  },
  {
   "cell_type": "code",
   "execution_count": 14,
   "metadata": {},
   "outputs": [
    {
     "data": {
      "text/plain": [
       "16"
      ]
     },
     "execution_count": 14,
     "metadata": {},
     "output_type": "execute_result"
    }
   ],
   "source": [
    "max_len_target"
   ]
  },
  {
   "cell_type": "code",
   "execution_count": 15,
   "metadata": {},
   "outputs": [
    {
     "name": "stdout",
     "output_type": "stream",
     "text": [
      "encoder_data.shape:  (799, 19)\n",
      "encoder_data[0]:  [ 0  0  0  0  0  0  0  0  0  0  0  0  0  0  0  0  0  0 79]\n",
      "decoder_data[0]:  [  2 438   0   0   0   0   0   0   0   0   0   0   0   0   0   0]\n",
      "decoder_Data.shape:  (799, 16)\n"
     ]
    }
   ],
   "source": [
    "# pad the sequences\n",
    "encoder_inputs = pad_sequences(input_sequences, maxlen=max_len_input)\n",
    "print(\"encoder_data.shape: \", encoder_inputs.shape)\n",
    "print(\"encoder_data[0]: \", encoder_inputs[0])\n",
    "\n",
    "decoder_inputs = pad_sequences(target_sequncess_inputs, maxlen=max_len_target, padding='post')\n",
    "print(\"decoder_data[0]: \", decoder_inputs[0])\n",
    "print(\"decoder_Data.shape: \", decoder_inputs.shape)\n",
    "\n",
    "decoder_targets = pad_sequences(target_sequences, maxlen=max_len_target, padding='post')"
   ]
  },
  {
   "cell_type": "markdown",
   "metadata": {},
   "source": [
    "## 3. Model"
   ]
  },
  {
   "cell_type": "markdown",
   "metadata": {},
   "source": [
    "### 1. embedding"
   ]
  },
  {
   "cell_type": "code",
   "execution_count": 16,
   "metadata": {},
   "outputs": [
    {
     "name": "stdout",
     "output_type": "stream",
     "text": [
      "Loading word vectors...\n",
      "Found 400000 word vectors.\n"
     ]
    }
   ],
   "source": [
    "# store all the pre-trained word vectors\n",
    "print('Loading word vectors...')\n",
    "word2vec = {}\n",
    "with open(os.path.join('./glove.6B.%sd.txt' % EMBEDDING_DIM), encoding='utf-8') as f:\n",
    "    # is just a space-separated text file in the format:\n",
    "    # word vec[0] vec[1] vec[2] ...\n",
    "    for line in f:\n",
    "        values = line.split()\n",
    "        word = values[0]\n",
    "        vec = np.asarray(values[1:], dtype='float32')\n",
    "        word2vec[word] = vec\n",
    "print('Found %s word vectors.' % len(word2vec))"
   ]
  },
  {
   "cell_type": "code",
   "execution_count": 17,
   "metadata": {},
   "outputs": [
    {
     "name": "stdout",
     "output_type": "stream",
     "text": [
      "Filling pre-trained embeddings...\n"
     ]
    }
   ],
   "source": [
    "# prepare embedding matrix\n",
    "print('Filling pre-trained embeddings...')\n",
    "num_words = min(MAX_NUM_WORDS, len(word2idx_inputs) + 1)\n",
    "embedding_matrix = np.zeros((num_words, EMBEDDING_DIM))\n",
    "\n",
    "for word, i in word2idx_inputs.items():\n",
    "    if i < MAX_NUM_WORDS:\n",
    "        embedding_vector = word2vec.get(word)\n",
    "        \n",
    "        if embedding_vector is not None:\n",
    "            # words not found in embedding index will be all zeros.\n",
    "            embedding_matrix[i] = embedding_vector"
   ]
  },
  {
   "cell_type": "markdown",
   "metadata": {},
   "source": [
    "### 2. target"
   ]
  },
  {
   "cell_type": "code",
   "execution_count": 18,
   "metadata": {},
   "outputs": [],
   "source": [
    "# create targets, since we cannot use sparse\n",
    "decoder_targets_one_hot = np.zeros(\n",
    "  (\n",
    "    len(input_texts),\n",
    "    max_len_target,\n",
    "    num_words_output\n",
    "  ),\n",
    "  dtype='float32'\n",
    ")\n",
    "\n",
    "# assign the values\n",
    "for i, d in enumerate(decoder_targets):\n",
    "    for t, word in enumerate(d):\n",
    "        decoder_targets_one_hot[i, t, word] = 1"
   ]
  },
  {
   "cell_type": "markdown",
   "metadata": {},
   "source": [
    "### 3. model"
   ]
  },
  {
   "cell_type": "code",
   "execution_count": 19,
   "metadata": {},
   "outputs": [],
   "source": [
    "# create embedding layer\n",
    "embedding_layer = Embedding(\n",
    "  num_words,\n",
    "  EMBEDDING_DIM,\n",
    "  weights=[embedding_matrix],\n",
    "  input_length=max_len_input,\n",
    "  # trainable=True\n",
    ")"
   ]
  },
  {
   "cell_type": "code",
   "execution_count": 20,
   "metadata": {},
   "outputs": [],
   "source": [
    "encoder_inputs_placeholder = Input(shape=(max_len_input,))\n",
    "x = embedding_layer(encoder_inputs_placeholder)\n",
    "encoder = LSTM(\n",
    "  LATENT_DIM,\n",
    "  return_state=True, # we only need last lstm output state\n",
    "  # dropout=0.5 # dropout not available on gpu\n",
    ")\n",
    "encoder_outputs, h, c = encoder(x)\n",
    "# encoder_outputs, h = encoder(x) #gru\n",
    "\n",
    "# keep only the states to pass into decoder\n",
    "encoder_states = [h, c]\n",
    "# encoder_states = [state_h] # gru"
   ]
  },
  {
   "cell_type": "code",
   "execution_count": 21,
   "metadata": {},
   "outputs": [],
   "source": [
    "# Set up the decoder, using [h, c] as initial state.\n",
    "decoder_inputs_placeholder = Input(shape=(max_len_target,))\n",
    "\n",
    "# this word embedding will not use pre-trained vectors\n",
    "decoder_embedding = Embedding(num_words_output, LATENT_DIM)\n",
    "decoder_inputs_x = decoder_embedding(decoder_inputs_placeholder)\n",
    "\n",
    "# since the decoder is a \"to-many\" model we want to have\n",
    "# return_sequences=True\n",
    "decoder_lstm = LSTM(\n",
    "  LATENT_DIM,\n",
    "  return_sequences=True,\n",
    "  return_state=True,\n",
    "  # dropout=0.5 # dropout not available on gpu\n",
    ")\n",
    "decoder_outputs, _, _ = decoder_lstm(\n",
    "  decoder_inputs_x,\n",
    "  initial_state=encoder_states\n",
    ")"
   ]
  },
  {
   "cell_type": "code",
   "execution_count": 22,
   "metadata": {},
   "outputs": [],
   "source": [
    "# final dense layer for predictions\n",
    "decoder_dense = Dense(num_words_output, activation='softmax')\n",
    "decoder_outputs = decoder_dense(decoder_outputs)"
   ]
  },
  {
   "cell_type": "code",
   "execution_count": 23,
   "metadata": {},
   "outputs": [
    {
     "name": "stdout",
     "output_type": "stream",
     "text": [
      "__________________________________________________________________________________________________\n",
      "Layer (type)                    Output Shape         Param #     Connected to                     \n",
      "==================================================================================================\n",
      "input_1 (InputLayer)            (None, 19)           0                                            \n",
      "__________________________________________________________________________________________________\n",
      "input_2 (InputLayer)            (None, 16)           0                                            \n",
      "__________________________________________________________________________________________________\n",
      "embedding_1 (Embedding)         (None, 19, 100)      106300      input_1[0][0]                    \n",
      "__________________________________________________________________________________________________\n",
      "embedding_2 (Embedding)         (None, 16, 256)      467712      input_2[0][0]                    \n",
      "__________________________________________________________________________________________________\n",
      "lstm_1 (LSTM)                   [(None, 256), (None, 365568      embedding_1[0][0]                \n",
      "__________________________________________________________________________________________________\n",
      "lstm_2 (LSTM)                   [(None, 16, 256), (N 525312      embedding_2[0][0]                \n",
      "                                                                 lstm_1[0][1]                     \n",
      "                                                                 lstm_1[0][2]                     \n",
      "__________________________________________________________________________________________________\n",
      "dense_1 (Dense)                 (None, 16, 1827)     469539      lstm_2[0][0]                     \n",
      "==================================================================================================\n",
      "Total params: 1,934,431\n",
      "Trainable params: 1,934,431\n",
      "Non-trainable params: 0\n",
      "__________________________________________________________________________________________________\n"
     ]
    }
   ],
   "source": [
    "# Create the model object\n",
    "# teacher forcing\n",
    "model = Model([encoder_inputs_placeholder, decoder_inputs_placeholder], decoder_outputs)\n",
    "model.summary()"
   ]
  },
  {
   "cell_type": "code",
   "execution_count": 24,
   "metadata": {
    "scrolled": true
   },
   "outputs": [
    {
     "name": "stdout",
     "output_type": "stream",
     "text": [
      "Train on 639 samples, validate on 160 samples\n",
      "Epoch 1/100\n",
      "639/639 [==============================] - 3s 5ms/step - loss: 3.7174 - acc: 0.6503 - val_loss: 3.4322 - val_acc: 0.5574\n",
      "Epoch 2/100\n",
      "639/639 [==============================] - 1s 1ms/step - loss: 1.7978 - acc: 0.7317 - val_loss: 3.3090 - val_acc: 0.5719\n",
      "Epoch 3/100\n",
      "639/639 [==============================] - 1s 1ms/step - loss: 1.7519 - acc: 0.7361 - val_loss: 3.5171 - val_acc: 0.5684\n",
      "Epoch 4/100\n",
      "639/639 [==============================] - 1s 1ms/step - loss: 1.6772 - acc: 0.7495 - val_loss: 3.6531 - val_acc: 0.5703\n",
      "Epoch 5/100\n",
      "639/639 [==============================] - 1s 1ms/step - loss: 1.6190 - acc: 0.7613 - val_loss: 3.5496 - val_acc: 0.5777\n",
      "Epoch 6/100\n",
      "639/639 [==============================] - 1s 1ms/step - loss: 1.5705 - acc: 0.7720 - val_loss: 3.5337 - val_acc: 0.6047\n",
      "Epoch 7/100\n",
      "639/639 [==============================] - 1s 1ms/step - loss: 1.5179 - acc: 0.7881 - val_loss: 3.7472 - val_acc: 0.5840\n",
      "Epoch 8/100\n",
      "639/639 [==============================] - 1s 1ms/step - loss: 1.4889 - acc: 0.7883 - val_loss: 3.7477 - val_acc: 0.5980\n",
      "Epoch 9/100\n",
      "639/639 [==============================] - 1s 1ms/step - loss: 1.4613 - acc: 0.7896 - val_loss: 3.7778 - val_acc: 0.6133\n",
      "Epoch 10/100\n",
      "639/639 [==============================] - 1s 1ms/step - loss: 1.4302 - acc: 0.7913 - val_loss: 3.8484 - val_acc: 0.6145\n",
      "Epoch 11/100\n",
      "639/639 [==============================] - 1s 1ms/step - loss: 1.3949 - acc: 0.7922 - val_loss: 3.8737 - val_acc: 0.6176\n",
      "Epoch 12/100\n",
      "639/639 [==============================] - 1s 1ms/step - loss: 1.3621 - acc: 0.7924 - val_loss: 3.9830 - val_acc: 0.6207\n",
      "Epoch 13/100\n",
      "639/639 [==============================] - 1s 1ms/step - loss: 1.3244 - acc: 0.7939 - val_loss: 4.0368 - val_acc: 0.6281\n",
      "Epoch 14/100\n",
      "639/639 [==============================] - 1s 1ms/step - loss: 1.2830 - acc: 0.7961 - val_loss: 4.0362 - val_acc: 0.6312\n",
      "Epoch 15/100\n",
      "639/639 [==============================] - 1s 1ms/step - loss: 1.2545 - acc: 0.7975 - val_loss: 4.0711 - val_acc: 0.6312\n",
      "Epoch 16/100\n",
      "639/639 [==============================] - 1s 1ms/step - loss: 1.2214 - acc: 0.7991 - val_loss: 4.2056 - val_acc: 0.6352\n",
      "Epoch 17/100\n",
      "639/639 [==============================] - 1s 1ms/step - loss: 1.1760 - acc: 0.8012 - val_loss: 4.0866 - val_acc: 0.6344\n",
      "Epoch 18/100\n",
      "639/639 [==============================] - 1s 1ms/step - loss: 1.1426 - acc: 0.8032 - val_loss: 4.1860 - val_acc: 0.6336\n",
      "Epoch 19/100\n",
      "639/639 [==============================] - 1s 1ms/step - loss: 1.1081 - acc: 0.8053 - val_loss: 4.3239 - val_acc: 0.6348\n",
      "Epoch 20/100\n",
      "639/639 [==============================] - 1s 1ms/step - loss: 1.0680 - acc: 0.8079 - val_loss: 4.3183 - val_acc: 0.6336\n",
      "Epoch 21/100\n",
      "639/639 [==============================] - 1s 1ms/step - loss: 1.0392 - acc: 0.8109 - val_loss: 4.3551 - val_acc: 0.6367\n",
      "Epoch 22/100\n",
      "639/639 [==============================] - 1s 1ms/step - loss: 0.9938 - acc: 0.8130 - val_loss: 4.3737 - val_acc: 0.6367\n",
      "Epoch 23/100\n",
      "639/639 [==============================] - 1s 1ms/step - loss: 0.9576 - acc: 0.8165 - val_loss: 4.4634 - val_acc: 0.6352\n",
      "Epoch 24/100\n",
      "639/639 [==============================] - 1s 1ms/step - loss: 0.9254 - acc: 0.8196 - val_loss: 4.3977 - val_acc: 0.6352\n",
      "Epoch 25/100\n",
      "639/639 [==============================] - 1s 1ms/step - loss: 0.8811 - acc: 0.8224 - val_loss: 4.4467 - val_acc: 0.6355\n",
      "Epoch 26/100\n",
      "639/639 [==============================] - 1s 1ms/step - loss: 0.8493 - acc: 0.8265 - val_loss: 4.5367 - val_acc: 0.6352\n",
      "Epoch 27/100\n",
      "639/639 [==============================] - 1s 1ms/step - loss: 0.8069 - acc: 0.8347 - val_loss: 4.4413 - val_acc: 0.6367\n",
      "Epoch 28/100\n",
      "639/639 [==============================] - 1s 1ms/step - loss: 0.7742 - acc: 0.8411 - val_loss: 4.4986 - val_acc: 0.6383\n",
      "Epoch 29/100\n",
      "639/639 [==============================] - 1s 1ms/step - loss: 0.7318 - acc: 0.8483 - val_loss: 4.5773 - val_acc: 0.6371\n",
      "Epoch 30/100\n",
      "639/639 [==============================] - 1s 1ms/step - loss: 0.6956 - acc: 0.8569 - val_loss: 4.4986 - val_acc: 0.6379\n",
      "Epoch 31/100\n",
      "639/639 [==============================] - 1s 1ms/step - loss: 0.6541 - acc: 0.8674 - val_loss: 4.5597 - val_acc: 0.6375\n",
      "Epoch 32/100\n",
      "639/639 [==============================] - 1s 1ms/step - loss: 0.6211 - acc: 0.8772 - val_loss: 4.4947 - val_acc: 0.6367\n",
      "Epoch 33/100\n",
      "639/639 [==============================] - 1s 1ms/step - loss: 0.5869 - acc: 0.8905 - val_loss: 4.5346 - val_acc: 0.6375\n",
      "Epoch 34/100\n",
      "639/639 [==============================] - 1s 1ms/step - loss: 0.5481 - acc: 0.9051 - val_loss: 4.5863 - val_acc: 0.6383\n",
      "Epoch 35/100\n",
      "639/639 [==============================] - 1s 1ms/step - loss: 0.5145 - acc: 0.9113 - val_loss: 4.5908 - val_acc: 0.6379\n",
      "Epoch 36/100\n",
      "639/639 [==============================] - 1s 1ms/step - loss: 0.4821 - acc: 0.9207 - val_loss: 4.5815 - val_acc: 0.6367\n",
      "Epoch 37/100\n",
      "639/639 [==============================] - 1s 1ms/step - loss: 0.4463 - acc: 0.9295 - val_loss: 4.5937 - val_acc: 0.6371\n",
      "Epoch 38/100\n",
      "639/639 [==============================] - 1s 1ms/step - loss: 0.4120 - acc: 0.9368 - val_loss: 4.5658 - val_acc: 0.6332\n",
      "Epoch 39/100\n",
      "639/639 [==============================] - 1s 1ms/step - loss: 0.3877 - acc: 0.9445 - val_loss: 4.5502 - val_acc: 0.6328\n",
      "Epoch 40/100\n",
      "639/639 [==============================] - 1s 1ms/step - loss: 0.3568 - acc: 0.9487 - val_loss: 4.5811 - val_acc: 0.6344\n",
      "Epoch 41/100\n",
      "639/639 [==============================] - 1s 1ms/step - loss: 0.3348 - acc: 0.9539 - val_loss: 4.5507 - val_acc: 0.6309\n",
      "Epoch 42/100\n",
      "639/639 [==============================] - 1s 1ms/step - loss: 0.3018 - acc: 0.9595 - val_loss: 4.6043 - val_acc: 0.6312\n",
      "Epoch 43/100\n",
      "639/639 [==============================] - 1s 1ms/step - loss: 0.2802 - acc: 0.9640 - val_loss: 4.5998 - val_acc: 0.6285\n",
      "Epoch 44/100\n",
      "639/639 [==============================] - 1s 1ms/step - loss: 0.2554 - acc: 0.9689 - val_loss: 4.6217 - val_acc: 0.6301\n",
      "Epoch 45/100\n",
      "639/639 [==============================] - 1s 1ms/step - loss: 0.2361 - acc: 0.9687 - val_loss: 4.6085 - val_acc: 0.6281\n",
      "Epoch 46/100\n",
      "639/639 [==============================] - 1s 1ms/step - loss: 0.2118 - acc: 0.9723 - val_loss: 4.6356 - val_acc: 0.6258\n",
      "Epoch 47/100\n",
      "639/639 [==============================] - 1s 1ms/step - loss: 0.1994 - acc: 0.9748 - val_loss: 4.6307 - val_acc: 0.6242\n",
      "Epoch 48/100\n",
      "639/639 [==============================] - 1s 1ms/step - loss: 0.1770 - acc: 0.9771 - val_loss: 4.6209 - val_acc: 0.6281\n",
      "Epoch 49/100\n",
      "639/639 [==============================] - 1s 1ms/step - loss: 0.1641 - acc: 0.9784 - val_loss: 4.6276 - val_acc: 0.6270\n",
      "Epoch 50/100\n",
      "639/639 [==============================] - 1s 1ms/step - loss: 0.1493 - acc: 0.9797 - val_loss: 4.6271 - val_acc: 0.6258\n",
      "Epoch 51/100\n",
      "639/639 [==============================] - 1s 1ms/step - loss: 0.1353 - acc: 0.9815 - val_loss: 4.6260 - val_acc: 0.6238\n",
      "Epoch 52/100\n",
      "639/639 [==============================] - 1s 1ms/step - loss: 0.1248 - acc: 0.9818 - val_loss: 4.6579 - val_acc: 0.6219\n",
      "Epoch 53/100\n",
      "639/639 [==============================] - 1s 1ms/step - loss: 0.1115 - acc: 0.9823 - val_loss: 4.6541 - val_acc: 0.6230\n",
      "Epoch 54/100\n",
      "639/639 [==============================] - 1s 1ms/step - loss: 0.1038 - acc: 0.9832 - val_loss: 4.6367 - val_acc: 0.6238\n",
      "Epoch 55/100\n",
      "639/639 [==============================] - 1s 1ms/step - loss: 0.0960 - acc: 0.9844 - val_loss: 4.6706 - val_acc: 0.6246\n",
      "Epoch 56/100\n",
      "639/639 [==============================] - 1s 1ms/step - loss: 0.0867 - acc: 0.9854 - val_loss: 4.6764 - val_acc: 0.6223\n",
      "Epoch 57/100\n",
      "639/639 [==============================] - 1s 1ms/step - loss: 0.0777 - acc: 0.9861 - val_loss: 4.6913 - val_acc: 0.6223\n",
      "Epoch 58/100\n",
      "639/639 [==============================] - 1s 1ms/step - loss: 0.0714 - acc: 0.9862 - val_loss: 4.6827 - val_acc: 0.6199\n",
      "Epoch 59/100\n",
      "639/639 [==============================] - 1s 1ms/step - loss: 0.0683 - acc: 0.9863 - val_loss: 4.6975 - val_acc: 0.6227\n",
      "Epoch 60/100\n",
      "639/639 [==============================] - 1s 1ms/step - loss: 0.0611 - acc: 0.9877 - val_loss: 4.7062 - val_acc: 0.6191\n",
      "Epoch 61/100\n",
      "639/639 [==============================] - 1s 1ms/step - loss: 0.0580 - acc: 0.9857 - val_loss: 4.7196 - val_acc: 0.6219\n"
     ]
    },
    {
     "name": "stdout",
     "output_type": "stream",
     "text": [
      "Epoch 62/100\n",
      "639/639 [==============================] - 1s 1ms/step - loss: 0.0524 - acc: 0.9866 - val_loss: 4.7234 - val_acc: 0.6203\n",
      "Epoch 63/100\n",
      "639/639 [==============================] - 1s 1ms/step - loss: 0.0498 - acc: 0.9869 - val_loss: 4.7438 - val_acc: 0.6141\n",
      "Epoch 64/100\n",
      "639/639 [==============================] - 1s 1ms/step - loss: 0.0462 - acc: 0.9867 - val_loss: 4.7397 - val_acc: 0.6141\n",
      "Epoch 65/100\n",
      "639/639 [==============================] - 1s 1ms/step - loss: 0.0434 - acc: 0.9877 - val_loss: 4.7272 - val_acc: 0.6176\n",
      "Epoch 66/100\n",
      "639/639 [==============================] - 1s 1ms/step - loss: 0.0410 - acc: 0.9868 - val_loss: 4.7466 - val_acc: 0.6191\n",
      "Epoch 67/100\n",
      "639/639 [==============================] - 1s 1ms/step - loss: 0.0386 - acc: 0.9877 - val_loss: 4.7491 - val_acc: 0.6172\n",
      "Epoch 68/100\n",
      "639/639 [==============================] - 1s 1ms/step - loss: 0.0363 - acc: 0.9868 - val_loss: 4.7669 - val_acc: 0.6168\n",
      "Epoch 69/100\n",
      "639/639 [==============================] - 1s 1ms/step - loss: 0.0346 - acc: 0.9876 - val_loss: 4.7726 - val_acc: 0.6133\n",
      "Epoch 70/100\n",
      "639/639 [==============================] - 1s 1ms/step - loss: 0.0330 - acc: 0.9873 - val_loss: 4.7775 - val_acc: 0.6160\n",
      "Epoch 71/100\n",
      "639/639 [==============================] - 1s 1ms/step - loss: 0.0315 - acc: 0.9877 - val_loss: 4.7709 - val_acc: 0.6137\n",
      "Epoch 72/100\n",
      "639/639 [==============================] - 1s 1ms/step - loss: 0.0304 - acc: 0.9875 - val_loss: 4.8013 - val_acc: 0.6141\n",
      "Epoch 73/100\n",
      "639/639 [==============================] - 1s 1ms/step - loss: 0.0291 - acc: 0.9875 - val_loss: 4.7907 - val_acc: 0.6137\n",
      "Epoch 74/100\n",
      "639/639 [==============================] - 1s 1ms/step - loss: 0.0278 - acc: 0.9889 - val_loss: 4.8137 - val_acc: 0.6164\n",
      "Epoch 75/100\n",
      "639/639 [==============================] - 1s 1ms/step - loss: 0.0276 - acc: 0.9875 - val_loss: 4.8135 - val_acc: 0.6152\n",
      "Epoch 76/100\n",
      "639/639 [==============================] - 1s 1ms/step - loss: 0.0258 - acc: 0.9881 - val_loss: 4.8320 - val_acc: 0.6129\n",
      "Epoch 77/100\n",
      "639/639 [==============================] - 1s 1ms/step - loss: 0.0250 - acc: 0.9879 - val_loss: 4.8388 - val_acc: 0.6168\n",
      "Epoch 78/100\n",
      "639/639 [==============================] - 1s 1ms/step - loss: 0.0243 - acc: 0.9889 - val_loss: 4.8420 - val_acc: 0.6148\n",
      "Epoch 79/100\n",
      "639/639 [==============================] - 1s 1ms/step - loss: 0.0242 - acc: 0.9873 - val_loss: 4.8584 - val_acc: 0.6117\n",
      "Epoch 80/100\n",
      "639/639 [==============================] - 1s 1ms/step - loss: 0.0226 - acc: 0.9888 - val_loss: 4.8496 - val_acc: 0.6137\n",
      "Epoch 81/100\n",
      "639/639 [==============================] - 1s 1ms/step - loss: 0.0227 - acc: 0.9877 - val_loss: 4.8614 - val_acc: 0.6105\n",
      "Epoch 82/100\n",
      "639/639 [==============================] - 1s 1ms/step - loss: 0.0218 - acc: 0.9888 - val_loss: 4.8518 - val_acc: 0.6137\n",
      "Epoch 83/100\n",
      "639/639 [==============================] - 1s 1ms/step - loss: 0.0216 - acc: 0.9893 - val_loss: 4.8750 - val_acc: 0.6117\n",
      "Epoch 84/100\n",
      "639/639 [==============================] - 1s 1ms/step - loss: 0.0206 - acc: 0.9895 - val_loss: 4.8665 - val_acc: 0.6133\n",
      "Epoch 85/100\n",
      "639/639 [==============================] - 1s 1ms/step - loss: 0.0203 - acc: 0.9888 - val_loss: 4.8664 - val_acc: 0.6121\n",
      "Epoch 86/100\n",
      "639/639 [==============================] - 1s 1ms/step - loss: 0.0207 - acc: 0.9891 - val_loss: 4.8917 - val_acc: 0.6117\n",
      "Epoch 87/100\n",
      "639/639 [==============================] - 1s 1ms/step - loss: 0.0198 - acc: 0.9882 - val_loss: 4.9016 - val_acc: 0.6098\n",
      "Epoch 88/100\n",
      "639/639 [==============================] - 1s 1ms/step - loss: 0.0194 - acc: 0.9889 - val_loss: 4.8983 - val_acc: 0.6125\n",
      "Epoch 89/100\n",
      "639/639 [==============================] - 1s 1ms/step - loss: 0.0190 - acc: 0.9890 - val_loss: 4.9130 - val_acc: 0.6121\n",
      "Epoch 90/100\n",
      "639/639 [==============================] - 1s 1ms/step - loss: 0.0187 - acc: 0.9883 - val_loss: 4.9353 - val_acc: 0.6086\n",
      "Epoch 91/100\n",
      "639/639 [==============================] - 1s 1ms/step - loss: 0.0188 - acc: 0.9881 - val_loss: 4.9163 - val_acc: 0.6117\n",
      "Epoch 92/100\n",
      "639/639 [==============================] - 1s 1ms/step - loss: 0.0184 - acc: 0.9892 - val_loss: 4.9289 - val_acc: 0.6105\n",
      "Epoch 93/100\n",
      "639/639 [==============================] - 1s 1ms/step - loss: 0.0183 - acc: 0.9888 - val_loss: 4.9285 - val_acc: 0.6121\n",
      "Epoch 94/100\n",
      "639/639 [==============================] - 1s 1ms/step - loss: 0.0182 - acc: 0.9884 - val_loss: 4.9369 - val_acc: 0.6078\n",
      "Epoch 95/100\n",
      "639/639 [==============================] - 1s 1ms/step - loss: 0.0179 - acc: 0.9881 - val_loss: 4.9459 - val_acc: 0.6094\n",
      "Epoch 96/100\n",
      "639/639 [==============================] - 1s 1ms/step - loss: 0.0177 - acc: 0.9889 - val_loss: 4.9531 - val_acc: 0.6121\n",
      "Epoch 97/100\n",
      "639/639 [==============================] - 1s 1ms/step - loss: 0.0177 - acc: 0.9890 - val_loss: 4.9550 - val_acc: 0.6098\n",
      "Epoch 98/100\n",
      "639/639 [==============================] - 1s 1ms/step - loss: 0.0172 - acc: 0.9893 - val_loss: 4.9557 - val_acc: 0.6098\n",
      "Epoch 99/100\n",
      "639/639 [==============================] - 1s 1ms/step - loss: 0.0170 - acc: 0.9888 - val_loss: 4.9742 - val_acc: 0.6090\n",
      "Epoch 100/100\n",
      "639/639 [==============================] - 1s 1ms/step - loss: 0.0170 - acc: 0.9890 - val_loss: 4.9794 - val_acc: 0.6082\n"
     ]
    }
   ],
   "source": [
    "# Compile the model and train it\n",
    "model.compile(\n",
    "  optimizer='rmsprop',\n",
    "  loss='categorical_crossentropy',\n",
    "  metrics=['accuracy']\n",
    ")\n",
    "\n",
    "r = model.fit(\n",
    "  [encoder_inputs, decoder_inputs], decoder_targets_one_hot,\n",
    "  batch_size=BATCH_SIZE,\n",
    "  epochs=EPOCHS,\n",
    "  validation_split=0.2,\n",
    ")"
   ]
  },
  {
   "cell_type": "code",
   "execution_count": 25,
   "metadata": {},
   "outputs": [
    {
     "data": {
      "text/plain": [
       "(799, 16, 1827)"
      ]
     },
     "execution_count": 25,
     "metadata": {},
     "output_type": "execute_result"
    }
   ],
   "source": [
    "decoder_targets_one_hot.shape"
   ]
  },
  {
   "cell_type": "code",
   "execution_count": 26,
   "metadata": {
    "scrolled": true
   },
   "outputs": [
    {
     "data": {
      "image/png": "[encoded data removed]",
      "text/plain": [
       "<matplotlib.figure.Figure at 0xb306f3b630>"
      ]
     },
     "metadata": {},
     "output_type": "display_data"
    },
    {
     "data": {
      "image/png": "[encoded data removed]",
      "text/plain": [
       "<matplotlib.figure.Figure at 0xb306f373c8>"
      ]
     },
     "metadata": {},
     "output_type": "display_data"
    },
    {
     "name": "stderr",
     "output_type": "stream",
     "text": [
      "C:\\ProgramData\\Anaconda3\\envs\\tensorflow-gpu\\lib\\site-packages\\keras\\engine\\topology.py:2344: UserWarning: Layer lstm_2 was passed non-serializable keyword arguments: {'initial_state': [<tf.Tensor 'lstm_1/while/Exit_2:0' shape=(?, 256) dtype=float32>, <tf.Tensor 'lstm_1/while/Exit_3:0' shape=(?, 256) dtype=float32>]}. They will not be included in the serialized model (and thus will be missing at deserialization time).\n",
      "  str(node.arguments) + '. They will not be included '\n"
     ]
    }
   ],
   "source": [
    "# plot some data\n",
    "plt.plot(r.history['loss'], label='loss')\n",
    "plt.plot(r.history['val_loss'], label='val_loss')\n",
    "plt.legend()\n",
    "plt.show()\n",
    "\n",
    "# accuracies\n",
    "plt.plot(r.history['acc'], label='acc')\n",
    "plt.plot(r.history['val_acc'], label='val_acc')\n",
    "plt.legend()\n",
    "plt.show()\n",
    "\n",
    "# Save model\n",
    "model.save('s2s.h5')"
   ]
  },
  {
   "cell_type": "markdown",
   "metadata": {},
   "source": [
    "# 4. Prediction"
   ]
  },
  {
   "cell_type": "code",
   "execution_count": 27,
   "metadata": {},
   "outputs": [],
   "source": [
    "##### Make predictions #####\n",
    "# As with the poetry example, we need to create another model\n",
    "# that can take in the RNN state and previous word as input\n",
    "# and accept a T=1 sequence.\n",
    "\n",
    "# The encoder will be stand-alone\n",
    "# From this we will get our initial decoder hidden state\n",
    "encoder_model = Model(encoder_inputs_placeholder, encoder_states)\n",
    "\n",
    "decoder_state_input_h = Input(shape=(LATENT_DIM,))\n",
    "decoder_state_input_c = Input(shape=(LATENT_DIM,))\n",
    "decoder_states_inputs = [decoder_state_input_h, decoder_state_input_c]\n",
    "# decoder_states_inputs = [decoder_state_input_h] # gru\n",
    "\n",
    "decoder_inputs_single = Input(shape=(1,))\n",
    "decoder_inputs_single_x = decoder_embedding(decoder_inputs_single)\n",
    "\n",
    "# this time, we want to keep the states too, to be output\n",
    "# by our sampling model\n",
    "# 출력이 한개다.\n",
    "decoder_outputs, h, c = decoder_lstm(\n",
    "  decoder_inputs_single_x,\n",
    "  initial_state=decoder_states_inputs\n",
    ")\n",
    "\n",
    "decoder_states = [h, c]\n",
    "# decoder_states = [h] # gru\n",
    "decoder_outputs = decoder_dense(decoder_outputs)\n",
    "\n",
    "# The sampling model\n",
    "# inputs: y(t-1), h(t-1), c(t-1)\n",
    "# outputs: y(t), h(t), c(t)\n",
    "decoder_model = Model(\n",
    "  [decoder_inputs_single] + decoder_states_inputs, \n",
    "  [decoder_outputs] + decoder_states\n",
    ")"
   ]
  },
  {
   "cell_type": "code",
   "execution_count": 28,
   "metadata": {},
   "outputs": [
    {
     "name": "stdout",
     "output_type": "stream",
     "text": [
      "_________________________________________________________________\n",
      "Layer (type)                 Output Shape              Param #   \n",
      "=================================================================\n",
      "input_1 (InputLayer)         (None, 19)                0         \n",
      "_________________________________________________________________\n",
      "embedding_1 (Embedding)      (None, 19, 100)           106300    \n",
      "_________________________________________________________________\n",
      "lstm_1 (LSTM)                [(None, 256), (None, 256) 365568    \n",
      "=================================================================\n",
      "Total params: 471,868\n",
      "Trainable params: 471,868\n",
      "Non-trainable params: 0\n",
      "_________________________________________________________________\n"
     ]
    }
   ],
   "source": [
    "encoder_model.summary()"
   ]
  },
  {
   "cell_type": "code",
   "execution_count": 29,
   "metadata": {},
   "outputs": [
    {
     "name": "stdout",
     "output_type": "stream",
     "text": [
      "__________________________________________________________________________________________________\n",
      "Layer (type)                    Output Shape         Param #     Connected to                     \n",
      "==================================================================================================\n",
      "input_5 (InputLayer)            (None, 1)            0                                            \n",
      "__________________________________________________________________________________________________\n",
      "embedding_2 (Embedding)         multiple             467712      input_5[0][0]                    \n",
      "__________________________________________________________________________________________________\n",
      "input_3 (InputLayer)            (None, 256)          0                                            \n",
      "__________________________________________________________________________________________________\n",
      "input_4 (InputLayer)            (None, 256)          0                                            \n",
      "__________________________________________________________________________________________________\n",
      "lstm_2 (LSTM)                   multiple             525312      embedding_2[1][0]                \n",
      "                                                                 input_3[0][0]                    \n",
      "                                                                 input_4[0][0]                    \n",
      "__________________________________________________________________________________________________\n",
      "dense_1 (Dense)                 multiple             469539      lstm_2[1][0]                     \n",
      "==================================================================================================\n",
      "Total params: 1,462,563\n",
      "Trainable params: 1,462,563\n",
      "Non-trainable params: 0\n",
      "__________________________________________________________________________________________________\n"
     ]
    }
   ],
   "source": [
    "decoder_model.summary()"
   ]
  },
  {
   "cell_type": "code",
   "execution_count": 30,
   "metadata": {},
   "outputs": [],
   "source": [
    "# map indexes back into real words\n",
    "# so we can view the results\n",
    "idx2word_eng = {v:k for k, v in word2idx_inputs.items()}\n",
    "idx2word_trans = {v:k for k, v in word2idx_outputs.items()}"
   ]
  },
  {
   "cell_type": "code",
   "execution_count": 31,
   "metadata": {},
   "outputs": [],
   "source": [
    "def decode_sequence(input_seq):\n",
    "    # Encode the input as state vectors.\n",
    "    states_value = encoder_model.predict(input_seq)\n",
    "\n",
    "    # Generate empty target sequence of length 1.\n",
    "    target_seq = np.zeros((1, 1))\n",
    "\n",
    "    # Populate the first character of target sequence with the start character.\n",
    "    # NOTE: tokenizer lower-cases all words\n",
    "    target_seq[0, 0] = word2idx_outputs['<sos>']\n",
    "\n",
    "    # if we get this we break\n",
    "    eos = word2idx_outputs['<eos>']\n",
    "\n",
    "    # Create the translation\n",
    "    output_sentence = []\n",
    "    \n",
    "    for _ in range(max_len_target):\n",
    "        output_tokens, h, c = decoder_model.predict(\n",
    "          [target_seq] + states_value\n",
    "        )\n",
    "        # output_tokens, h = decoder_model.predict(\n",
    "        #     [target_seq] + states_value\n",
    "        # ) # gru\n",
    "\n",
    "        # Get next word\n",
    "        idx = np.argmax(output_tokens[0, 0, :])\n",
    "\n",
    "        # End sentence of EOS\n",
    "        if eos == idx:\n",
    "            break\n",
    "\n",
    "        word = ''\n",
    "    \n",
    "        if idx > 0:\n",
    "            word = idx2word_trans[idx]\n",
    "            output_sentence.append(word)\n",
    "\n",
    "        # Update the decoder input\n",
    "        # which is just the word just generated\n",
    "        target_seq[0, 0] = idx\n",
    "\n",
    "        # Update states\n",
    "        states_value = [h, c]\n",
    "        # states_value = [h] # gru\n",
    "\n",
    "    return ' '.join(output_sentence)\n"
   ]
  },
  {
   "cell_type": "code",
   "execution_count": 32,
   "metadata": {},
   "outputs": [
    {
     "name": "stdout",
     "output_type": "stream",
     "text": [
      "-\n",
      "Input: After driving for eight hours, Tom just couldn't drive any longer.\n",
      "Translation: 그는 두 시간 동안 더 걸었다.\n",
      "Continue? [Y/n]y\n",
      "-\n",
      "Input: Do you want to take a walk?\n",
      "Translation: 산책하고 싶어?\n",
      "Continue? [Y/n]y\n",
      "-\n",
      "Input: They're amateurs.\n",
      "Translation: 걔네 초짜야.\n",
      "Continue? [Y/n]y\n",
      "-\n",
      "Input: This house is not for sale.\n",
      "Translation: 이 집은 팔려고 내놓은 집 아니에요.\n",
      "Continue? [Y/n]y\n",
      "-\n",
      "Input: Remember that we're all in the same boat.\n",
      "Translation: 우리는 다 같은 처지에 있지 않는다.\n",
      "Continue? [Y/n]y\n",
      "-\n",
      "Input: I don't buy it.\n",
      "Translation: 못 믿어.\n",
      "Continue? [Y/n]y\n",
      "-\n",
      "Input: Don't pry into my private life.\n",
      "Translation: 내 사생활 캐묻지 마.\n",
      "Continue? [Y/n]y\n",
      "-\n",
      "Input: We can't give up.\n",
      "Translation: 포기할 수 없어요.\n",
      "Continue? [Y/n]y\n",
      "-\n",
      "Input: Let's meet in front of the theater.\n",
      "Translation: 극장 앞에서 만납시다.\n",
      "Continue? [Y/n]y\n",
      "-\n",
      "Input: You need to accept your role.\n",
      "Translation: 넌 너의 역할을 받아들일 필요가 있어.\n",
      "Continue? [Y/n]y\n",
      "-\n",
      "Input: Keep Tom there.\n",
      "Translation: 톰은 여기에 두세요.\n",
      "Continue? [Y/n]y\n",
      "-\n",
      "Input: Drive carefully.\n",
      "Translation: 운전 조심해.\n",
      "Continue? [Y/n]y\n",
      "-\n",
      "Input: You look tired, so you should go to bed early.\n",
      "Translation: 내가 자주 와?\n",
      "Continue? [Y/n]y\n",
      "-\n",
      "Input: I'm heartbroken.\n",
      "Translation: 제 마음이 아파요.\n",
      "Continue? [Y/n]y\n",
      "-\n",
      "Input: Do you like cooking?\n",
      "Translation: 요리 좋아해요?\n",
      "Continue? [Y/n]n\n"
     ]
    }
   ],
   "source": [
    "while True:\n",
    "    # Do some test translations\n",
    "    i = np.random.choice(len(input_texts))\n",
    "    input_seq = encoder_inputs[i:i+1]\n",
    "    translation = decode_sequence(input_seq)\n",
    "    print('-')\n",
    "    print('Input:', input_texts[i])\n",
    "    print('Translation:', translation)\n",
    "\n",
    "    ans = input(\"Continue? [Y/n]\")\n",
    "    if ans and ans.lower().startswith('n'):\n",
    "        break"
   ]
  }
 ],
 "metadata": {
  "kernelspec": {
   "display_name": "Python 3",
   "language": "python",
   "name": "python3"
  },
  "language_info": {
   "codemirror_mode": {
    "name": "ipython",
    "version": 3
   },
   "file_extension": ".py",
   "mimetype": "text/x-python",
   "name": "python",
   "nbconvert_exporter": "python",
   "pygments_lexer": "ipython3",
   "version": "3.5.4"
  }
 },
 "nbformat": 4,
 "nbformat_minor": 2
}
