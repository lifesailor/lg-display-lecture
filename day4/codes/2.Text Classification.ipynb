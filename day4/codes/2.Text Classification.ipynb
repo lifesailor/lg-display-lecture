{
 "cells": [
  {
   "cell_type": "markdown",
   "metadata": {},
   "source": [
    "텍스트 분류(Text Classification)은 텍스트를 입력으로 받아, 텍스트가 어떤 종류의 문서에 속하는지를 구분하는 작업을 구합니다. 가령, 여러분이 스팸 메일 분류를 하고자 한다고 합시다. 일반 메일과 스팸 메일이라는 두 개의 클래스를 정해놓고 입력받은 텍스트를 두 개의 클래스 중 하나로 보내는 작업이 될 것입니다.\n",
    "\n",
    "그 외에도 영화 리뷰와 같은 텍스트를 입력 받아서 이 리뷰가 긍정 리뷰인지 부정 리뷰인지를 분류하는 '감정 분류 문제', 입력 받은 텍스트로부터 사용자의 의도를 질문, 명령, 거절 등과 같은 클래스로 분류하는 '의도 분석 문제'와 같은 분류 문제들이 있습니다."
   ]
  },
  {
   "cell_type": "markdown",
   "metadata": {},
   "source": [
    "# 1. Overview"
   ]
  },
  {
   "cell_type": "markdown",
   "metadata": {},
   "source": [
    "text의 경우에는 이미지나 Signal과 같이 이미 Regular하게 표현할 수 있는 방법들들을 가진 것들과는 조금 표현하는 방법이 다릅니다. 문장은 각 unit, token들이 굉장히 arbitrary한 성격을 갖고 있기 때문입니다. arbitrary하다는 것은 어떤 의미일까요?\n",
    "\n",
    "가령, 강아지는 dog, 고양이는 cat이라고 부릅니다. 그런데 어떤 이유로 dog, cat이라고 표기하는 것일까요? \n",
    "\n",
    "강아지와 비슷한 동물로는 늑대가 있습니다. 그런데 이 두 동물의 비슷한 특성에도 불구하고, dog와 wolf는 스펠링이 완전히 딴판입니다. 스펠링으로는 이 동물의 비슷한 특성을 전혀 나타내지 못 하고 있습니다. 즉, 스펠링만 가지고서는 우리는 이 동물이 비슷하다는 것을 알 수가 없습니다. 단어들은 굉장히 arbitrary한 assignment가 되어있습니다.\n",
    "\n",
    "이미지 같은 경우에는 pixel의 intensity 관점에서 보면 높고, 낮음이 명확합니다. 오디오 같은 경우에는 magnitue가 크면 소리가 큰 것이고, magnitue가 낮으면 소리가 작은 것이라고 볼 수 있듯이 표현 방법이 명확합니다. 그렇다면 text도 dog가 cat보다는 wolf와 가깝다는 것을 판단할 수 있게하는 표현 방법이 없을까요?\n",
    "\n"
   ]
  }
 ],
 "metadata": {
  "kernelspec": {
   "display_name": "Python 3",
   "language": "python",
   "name": "python3"
  },
  "language_info": {
   "codemirror_mode": {
    "name": "ipython",
    "version": 3
   },
   "file_extension": ".py",
   "mimetype": "text/x-python",
   "name": "python",
   "nbconvert_exporter": "python",
   "pygments_lexer": "ipython3",
   "version": "3.6.7"
  }
 },
 "nbformat": 4,
 "nbformat_minor": 2
}
